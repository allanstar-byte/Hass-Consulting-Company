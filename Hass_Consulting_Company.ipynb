{
  "nbformat": 4,
  "nbformat_minor": 0,
  "metadata": {
    "colab": {
      "name": "Hass Consulting Company",
      "provenance": [],
      "collapsed_sections": [],
      "toc_visible": true,
      "authorship_tag": "ABX9TyMtccm6o0dA2BkPJQKRabWq",
      "include_colab_link": true
    },
    "kernelspec": {
      "name": "python3",
      "display_name": "Python 3"
    }
  },
  "cells": [
    {
      "cell_type": "markdown",
      "metadata": {
        "id": "view-in-github",
        "colab_type": "text"
      },
      "source": [
        "<a href=\"https://colab.research.google.com/github/allanstar-byte/Hass-Consulting-Company/blob/main/Hass_Consulting_Company.ipynb\" target=\"_parent\"><img src=\"https://colab.research.google.com/assets/colab-badge.svg\" alt=\"Open In Colab\"/></a>"
      ]
    },
    {
      "cell_type": "markdown",
      "metadata": {
        "id": "njWRDcNsro_N"
      },
      "source": [
        "# **Hass Consulting Company**"
      ]
    },
    {
      "cell_type": "markdown",
      "metadata": {
        "id": "i6ii5pR4sEFF"
      },
      "source": [
        "## **1. Defining the Question**"
      ]
    },
    {
      "cell_type": "markdown",
      "metadata": {
        "id": "1R47Jh80sKDY"
      },
      "source": [
        "### **a) Specifying the Question**"
      ]
    },
    {
      "cell_type": "markdown",
      "metadata": {
        "id": "XFq1EdX-sVyc"
      },
      "source": [
        "TO study the factors that affect housing prices using the given information on real estate properties that was collected over the past few months. Later onwards, create a model that would allow the company to accurately predict the sale of prices upon being provided with the predictor variables."
      ]
    },
    {
      "cell_type": "markdown",
      "metadata": {
        "id": "kZAaMO0YsgTM"
      },
      "source": [
        "### **b) Defining the Metric for Success**"
      ]
    },
    {
      "cell_type": "markdown",
      "metadata": {
        "id": "UkPQJektsj_y"
      },
      "source": [
        "The analysis will be considered a success when a high accuracy level is achieved for the prediction of the model"
      ]
    },
    {
      "cell_type": "markdown",
      "metadata": {
        "id": "Zh-_Ft_0spJa"
      },
      "source": [
        "### **c) Understanding the context**"
      ]
    },
    {
      "cell_type": "markdown",
      "metadata": {
        "id": "AsM69NhzsxJW"
      },
      "source": [
        "At this research question as a Data scientist am entitled to come up with a model after Explolatory Data Analysis which can be used for the prediction purposes by Hass Consulting Company. The model will indicate which factors affect the real estate and try to make use of them for predicton purposes."
      ]
    },
    {
      "cell_type": "markdown",
      "metadata": {
        "id": "jSq5xIL7tWHt"
      },
      "source": [
        "### **d) Experimental Design**"
      ]
    },
    {
      "cell_type": "markdown",
      "metadata": {
        "id": "KMx-Q1N0tb2a"
      },
      "source": [
        "The experiantal desigh to be used is the CRISP-DM format.\n",
        "\n",
        "1. Business understanding\n",
        "\n",
        "2. Data Understanding\n",
        "\n",
        "3. Data cleaning\n",
        "\n",
        "4. Exploratory Data Analysis\n",
        "\n",
        "5. Modeling\n",
        "\n",
        "6. Evaluation/ Hyperameter tuning"
      ]
    },
    {
      "cell_type": "markdown",
      "metadata": {
        "id": "zs1k5rb-uBpb"
      },
      "source": [
        "### **e) Data Relevance**"
      ]
    },
    {
      "cell_type": "markdown",
      "metadata": {
        "id": "1D1ONL_DuEHg"
      },
      "source": [
        "The datasets are large enough to be used for analysis and modelling, thus promising a better outcome."
      ]
    },
    {
      "cell_type": "markdown",
      "metadata": {
        "id": "OOrfLizHuLhp"
      },
      "source": [
        "## **Reading the Data**"
      ]
    },
    {
      "cell_type": "code",
      "metadata": {
        "id": "kjUAGgBKrjAL"
      },
      "source": [
        "# importing the relevant libraries\n",
        "import pandas as pd\n",
        "\n",
        "import numpy as np\n",
        "\n",
        "import matplotlib.pyplot as plt\n",
        "\n",
        "import seaborn as sns"
      ],
      "execution_count": 68,
      "outputs": []
    },
    {
      "cell_type": "code",
      "metadata": {
        "colab": {
          "base_uri": "https://localhost:8080/",
          "height": 224
        },
        "id": "HoDpthk7uqmI",
        "outputId": "0079d54a-8f99-4922-dcc3-0d8972afab02"
      },
      "source": [
        "# loading the datset\n",
        "house = pd.read_csv('/content/house_data.csv')\n",
        "house.head()"
      ],
      "execution_count": 69,
      "outputs": [
        {
          "output_type": "execute_result",
          "data": {
            "text/html": [
              "<div>\n",
              "<style scoped>\n",
              "    .dataframe tbody tr th:only-of-type {\n",
              "        vertical-align: middle;\n",
              "    }\n",
              "\n",
              "    .dataframe tbody tr th {\n",
              "        vertical-align: top;\n",
              "    }\n",
              "\n",
              "    .dataframe thead th {\n",
              "        text-align: right;\n",
              "    }\n",
              "</style>\n",
              "<table border=\"1\" class=\"dataframe\">\n",
              "  <thead>\n",
              "    <tr style=\"text-align: right;\">\n",
              "      <th></th>\n",
              "      <th>id</th>\n",
              "      <th>price</th>\n",
              "      <th>bedrooms</th>\n",
              "      <th>bathrooms</th>\n",
              "      <th>sqft_living</th>\n",
              "      <th>sqft_lot</th>\n",
              "      <th>floors</th>\n",
              "      <th>waterfront</th>\n",
              "      <th>view</th>\n",
              "      <th>condition</th>\n",
              "      <th>grade</th>\n",
              "      <th>sqft_above</th>\n",
              "      <th>sqft_basement</th>\n",
              "      <th>yr_built</th>\n",
              "      <th>yr_renovated</th>\n",
              "      <th>zipcode</th>\n",
              "      <th>lat</th>\n",
              "      <th>long</th>\n",
              "      <th>sqft_living15</th>\n",
              "      <th>sqft_lot15</th>\n",
              "    </tr>\n",
              "  </thead>\n",
              "  <tbody>\n",
              "    <tr>\n",
              "      <th>0</th>\n",
              "      <td>7129300520</td>\n",
              "      <td>221900.0</td>\n",
              "      <td>3</td>\n",
              "      <td>1.00</td>\n",
              "      <td>1180</td>\n",
              "      <td>5650</td>\n",
              "      <td>1.0</td>\n",
              "      <td>0</td>\n",
              "      <td>0</td>\n",
              "      <td>3</td>\n",
              "      <td>7</td>\n",
              "      <td>1180</td>\n",
              "      <td>0</td>\n",
              "      <td>1955</td>\n",
              "      <td>0</td>\n",
              "      <td>98178</td>\n",
              "      <td>47.5112</td>\n",
              "      <td>-122.257</td>\n",
              "      <td>1340</td>\n",
              "      <td>5650</td>\n",
              "    </tr>\n",
              "    <tr>\n",
              "      <th>1</th>\n",
              "      <td>6414100192</td>\n",
              "      <td>538000.0</td>\n",
              "      <td>3</td>\n",
              "      <td>2.25</td>\n",
              "      <td>2570</td>\n",
              "      <td>7242</td>\n",
              "      <td>2.0</td>\n",
              "      <td>0</td>\n",
              "      <td>0</td>\n",
              "      <td>3</td>\n",
              "      <td>7</td>\n",
              "      <td>2170</td>\n",
              "      <td>400</td>\n",
              "      <td>1951</td>\n",
              "      <td>1991</td>\n",
              "      <td>98125</td>\n",
              "      <td>47.7210</td>\n",
              "      <td>-122.319</td>\n",
              "      <td>1690</td>\n",
              "      <td>7639</td>\n",
              "    </tr>\n",
              "    <tr>\n",
              "      <th>2</th>\n",
              "      <td>5631500400</td>\n",
              "      <td>180000.0</td>\n",
              "      <td>2</td>\n",
              "      <td>1.00</td>\n",
              "      <td>770</td>\n",
              "      <td>10000</td>\n",
              "      <td>1.0</td>\n",
              "      <td>0</td>\n",
              "      <td>0</td>\n",
              "      <td>3</td>\n",
              "      <td>6</td>\n",
              "      <td>770</td>\n",
              "      <td>0</td>\n",
              "      <td>1933</td>\n",
              "      <td>0</td>\n",
              "      <td>98028</td>\n",
              "      <td>47.7379</td>\n",
              "      <td>-122.233</td>\n",
              "      <td>2720</td>\n",
              "      <td>8062</td>\n",
              "    </tr>\n",
              "    <tr>\n",
              "      <th>3</th>\n",
              "      <td>2487200875</td>\n",
              "      <td>604000.0</td>\n",
              "      <td>4</td>\n",
              "      <td>3.00</td>\n",
              "      <td>1960</td>\n",
              "      <td>5000</td>\n",
              "      <td>1.0</td>\n",
              "      <td>0</td>\n",
              "      <td>0</td>\n",
              "      <td>5</td>\n",
              "      <td>7</td>\n",
              "      <td>1050</td>\n",
              "      <td>910</td>\n",
              "      <td>1965</td>\n",
              "      <td>0</td>\n",
              "      <td>98136</td>\n",
              "      <td>47.5208</td>\n",
              "      <td>-122.393</td>\n",
              "      <td>1360</td>\n",
              "      <td>5000</td>\n",
              "    </tr>\n",
              "    <tr>\n",
              "      <th>4</th>\n",
              "      <td>1954400510</td>\n",
              "      <td>510000.0</td>\n",
              "      <td>3</td>\n",
              "      <td>2.00</td>\n",
              "      <td>1680</td>\n",
              "      <td>8080</td>\n",
              "      <td>1.0</td>\n",
              "      <td>0</td>\n",
              "      <td>0</td>\n",
              "      <td>3</td>\n",
              "      <td>8</td>\n",
              "      <td>1680</td>\n",
              "      <td>0</td>\n",
              "      <td>1987</td>\n",
              "      <td>0</td>\n",
              "      <td>98074</td>\n",
              "      <td>47.6168</td>\n",
              "      <td>-122.045</td>\n",
              "      <td>1800</td>\n",
              "      <td>7503</td>\n",
              "    </tr>\n",
              "  </tbody>\n",
              "</table>\n",
              "</div>"
            ],
            "text/plain": [
              "           id     price  bedrooms  ...     long  sqft_living15  sqft_lot15\n",
              "0  7129300520  221900.0         3  ... -122.257           1340        5650\n",
              "1  6414100192  538000.0         3  ... -122.319           1690        7639\n",
              "2  5631500400  180000.0         2  ... -122.233           2720        8062\n",
              "3  2487200875  604000.0         4  ... -122.393           1360        5000\n",
              "4  1954400510  510000.0         3  ... -122.045           1800        7503\n",
              "\n",
              "[5 rows x 20 columns]"
            ]
          },
          "metadata": {
            "tags": []
          },
          "execution_count": 69
        }
      ]
    },
    {
      "cell_type": "markdown",
      "metadata": {
        "id": "MFFwGFPivD0j"
      },
      "source": [
        "## **2. Data understanding**"
      ]
    },
    {
      "cell_type": "code",
      "metadata": {
        "colab": {
          "base_uri": "https://localhost:8080/"
        },
        "id": "BI6WliEevIhz",
        "outputId": "728973ec-02b1-4d3d-8beb-3a388a8950b4"
      },
      "source": [
        "# checking the data types of the columns\n",
        "house.info()"
      ],
      "execution_count": 70,
      "outputs": [
        {
          "output_type": "stream",
          "text": [
            "<class 'pandas.core.frame.DataFrame'>\n",
            "RangeIndex: 21613 entries, 0 to 21612\n",
            "Data columns (total 20 columns):\n",
            " #   Column         Non-Null Count  Dtype  \n",
            "---  ------         --------------  -----  \n",
            " 0   id             21613 non-null  int64  \n",
            " 1   price          21613 non-null  float64\n",
            " 2   bedrooms       21613 non-null  int64  \n",
            " 3   bathrooms      21613 non-null  float64\n",
            " 4   sqft_living    21613 non-null  int64  \n",
            " 5   sqft_lot       21613 non-null  int64  \n",
            " 6   floors         21613 non-null  float64\n",
            " 7   waterfront     21613 non-null  int64  \n",
            " 8   view           21613 non-null  int64  \n",
            " 9   condition      21613 non-null  int64  \n",
            " 10  grade          21613 non-null  int64  \n",
            " 11  sqft_above     21613 non-null  int64  \n",
            " 12  sqft_basement  21613 non-null  int64  \n",
            " 13  yr_built       21613 non-null  int64  \n",
            " 14  yr_renovated   21613 non-null  int64  \n",
            " 15  zipcode        21613 non-null  int64  \n",
            " 16  lat            21613 non-null  float64\n",
            " 17  long           21613 non-null  float64\n",
            " 18  sqft_living15  21613 non-null  int64  \n",
            " 19  sqft_lot15     21613 non-null  int64  \n",
            "dtypes: float64(5), int64(15)\n",
            "memory usage: 3.3 MB\n"
          ],
          "name": "stdout"
        }
      ]
    },
    {
      "cell_type": "code",
      "metadata": {
        "colab": {
          "base_uri": "https://localhost:8080/"
        },
        "id": "5KBCLgWavS02",
        "outputId": "686c94e4-8af1-4b6c-f4b0-71c05a0f7c4a"
      },
      "source": [
        "#checking for the null values\n",
        "house.isna().sum()"
      ],
      "execution_count": 71,
      "outputs": [
        {
          "output_type": "execute_result",
          "data": {
            "text/plain": [
              "id               0\n",
              "price            0\n",
              "bedrooms         0\n",
              "bathrooms        0\n",
              "sqft_living      0\n",
              "sqft_lot         0\n",
              "floors           0\n",
              "waterfront       0\n",
              "view             0\n",
              "condition        0\n",
              "grade            0\n",
              "sqft_above       0\n",
              "sqft_basement    0\n",
              "yr_built         0\n",
              "yr_renovated     0\n",
              "zipcode          0\n",
              "lat              0\n",
              "long             0\n",
              "sqft_living15    0\n",
              "sqft_lot15       0\n",
              "dtype: int64"
            ]
          },
          "metadata": {
            "tags": []
          },
          "execution_count": 71
        }
      ]
    },
    {
      "cell_type": "code",
      "metadata": {
        "colab": {
          "base_uri": "https://localhost:8080/"
        },
        "id": "VEzCmIwCvdlC",
        "outputId": "8fe078e8-dab1-4884-81a9-26f33ef39a56"
      },
      "source": [
        "# checking for the duplicated values\n",
        "house.duplicated().sum()"
      ],
      "execution_count": 72,
      "outputs": [
        {
          "output_type": "execute_result",
          "data": {
            "text/plain": [
              "3"
            ]
          },
          "metadata": {
            "tags": []
          },
          "execution_count": 72
        }
      ]
    },
    {
      "cell_type": "code",
      "metadata": {
        "colab": {
          "base_uri": "https://localhost:8080/"
        },
        "id": "pZ0M5BQXvmQ_",
        "outputId": "bcd706dc-07d6-4914-fcf9-178096d5b2ce"
      },
      "source": [
        "#checking the dataet's shape\n",
        "house.shape"
      ],
      "execution_count": 73,
      "outputs": [
        {
          "output_type": "execute_result",
          "data": {
            "text/plain": [
              "(21613, 20)"
            ]
          },
          "metadata": {
            "tags": []
          },
          "execution_count": 73
        }
      ]
    },
    {
      "cell_type": "markdown",
      "metadata": {
        "id": "xgrsZMMNvwde"
      },
      "source": [
        "## **3. Data Cleaning**"
      ]
    },
    {
      "cell_type": "code",
      "metadata": {
        "colab": {
          "base_uri": "https://localhost:8080/",
          "height": 224
        },
        "id": "ZHe3Z4Vnv2aO",
        "outputId": "836e32f3-268e-4816-9840-7d91930e028d"
      },
      "source": [
        "#dropping the id and zip code column\n",
        "house_1 = house.drop(columns={'id', 'zipcode'}, axis='columns')\n",
        "house_1.head()"
      ],
      "execution_count": 74,
      "outputs": [
        {
          "output_type": "execute_result",
          "data": {
            "text/html": [
              "<div>\n",
              "<style scoped>\n",
              "    .dataframe tbody tr th:only-of-type {\n",
              "        vertical-align: middle;\n",
              "    }\n",
              "\n",
              "    .dataframe tbody tr th {\n",
              "        vertical-align: top;\n",
              "    }\n",
              "\n",
              "    .dataframe thead th {\n",
              "        text-align: right;\n",
              "    }\n",
              "</style>\n",
              "<table border=\"1\" class=\"dataframe\">\n",
              "  <thead>\n",
              "    <tr style=\"text-align: right;\">\n",
              "      <th></th>\n",
              "      <th>price</th>\n",
              "      <th>bedrooms</th>\n",
              "      <th>bathrooms</th>\n",
              "      <th>sqft_living</th>\n",
              "      <th>sqft_lot</th>\n",
              "      <th>floors</th>\n",
              "      <th>waterfront</th>\n",
              "      <th>view</th>\n",
              "      <th>condition</th>\n",
              "      <th>grade</th>\n",
              "      <th>sqft_above</th>\n",
              "      <th>sqft_basement</th>\n",
              "      <th>yr_built</th>\n",
              "      <th>yr_renovated</th>\n",
              "      <th>lat</th>\n",
              "      <th>long</th>\n",
              "      <th>sqft_living15</th>\n",
              "      <th>sqft_lot15</th>\n",
              "    </tr>\n",
              "  </thead>\n",
              "  <tbody>\n",
              "    <tr>\n",
              "      <th>0</th>\n",
              "      <td>221900.0</td>\n",
              "      <td>3</td>\n",
              "      <td>1.00</td>\n",
              "      <td>1180</td>\n",
              "      <td>5650</td>\n",
              "      <td>1.0</td>\n",
              "      <td>0</td>\n",
              "      <td>0</td>\n",
              "      <td>3</td>\n",
              "      <td>7</td>\n",
              "      <td>1180</td>\n",
              "      <td>0</td>\n",
              "      <td>1955</td>\n",
              "      <td>0</td>\n",
              "      <td>47.5112</td>\n",
              "      <td>-122.257</td>\n",
              "      <td>1340</td>\n",
              "      <td>5650</td>\n",
              "    </tr>\n",
              "    <tr>\n",
              "      <th>1</th>\n",
              "      <td>538000.0</td>\n",
              "      <td>3</td>\n",
              "      <td>2.25</td>\n",
              "      <td>2570</td>\n",
              "      <td>7242</td>\n",
              "      <td>2.0</td>\n",
              "      <td>0</td>\n",
              "      <td>0</td>\n",
              "      <td>3</td>\n",
              "      <td>7</td>\n",
              "      <td>2170</td>\n",
              "      <td>400</td>\n",
              "      <td>1951</td>\n",
              "      <td>1991</td>\n",
              "      <td>47.7210</td>\n",
              "      <td>-122.319</td>\n",
              "      <td>1690</td>\n",
              "      <td>7639</td>\n",
              "    </tr>\n",
              "    <tr>\n",
              "      <th>2</th>\n",
              "      <td>180000.0</td>\n",
              "      <td>2</td>\n",
              "      <td>1.00</td>\n",
              "      <td>770</td>\n",
              "      <td>10000</td>\n",
              "      <td>1.0</td>\n",
              "      <td>0</td>\n",
              "      <td>0</td>\n",
              "      <td>3</td>\n",
              "      <td>6</td>\n",
              "      <td>770</td>\n",
              "      <td>0</td>\n",
              "      <td>1933</td>\n",
              "      <td>0</td>\n",
              "      <td>47.7379</td>\n",
              "      <td>-122.233</td>\n",
              "      <td>2720</td>\n",
              "      <td>8062</td>\n",
              "    </tr>\n",
              "    <tr>\n",
              "      <th>3</th>\n",
              "      <td>604000.0</td>\n",
              "      <td>4</td>\n",
              "      <td>3.00</td>\n",
              "      <td>1960</td>\n",
              "      <td>5000</td>\n",
              "      <td>1.0</td>\n",
              "      <td>0</td>\n",
              "      <td>0</td>\n",
              "      <td>5</td>\n",
              "      <td>7</td>\n",
              "      <td>1050</td>\n",
              "      <td>910</td>\n",
              "      <td>1965</td>\n",
              "      <td>0</td>\n",
              "      <td>47.5208</td>\n",
              "      <td>-122.393</td>\n",
              "      <td>1360</td>\n",
              "      <td>5000</td>\n",
              "    </tr>\n",
              "    <tr>\n",
              "      <th>4</th>\n",
              "      <td>510000.0</td>\n",
              "      <td>3</td>\n",
              "      <td>2.00</td>\n",
              "      <td>1680</td>\n",
              "      <td>8080</td>\n",
              "      <td>1.0</td>\n",
              "      <td>0</td>\n",
              "      <td>0</td>\n",
              "      <td>3</td>\n",
              "      <td>8</td>\n",
              "      <td>1680</td>\n",
              "      <td>0</td>\n",
              "      <td>1987</td>\n",
              "      <td>0</td>\n",
              "      <td>47.6168</td>\n",
              "      <td>-122.045</td>\n",
              "      <td>1800</td>\n",
              "      <td>7503</td>\n",
              "    </tr>\n",
              "  </tbody>\n",
              "</table>\n",
              "</div>"
            ],
            "text/plain": [
              "      price  bedrooms  bathrooms  ...     long  sqft_living15  sqft_lot15\n",
              "0  221900.0         3       1.00  ... -122.257           1340        5650\n",
              "1  538000.0         3       2.25  ... -122.319           1690        7639\n",
              "2  180000.0         2       1.00  ... -122.233           2720        8062\n",
              "3  604000.0         4       3.00  ... -122.393           1360        5000\n",
              "4  510000.0         3       2.00  ... -122.045           1800        7503\n",
              "\n",
              "[5 rows x 18 columns]"
            ]
          },
          "metadata": {
            "tags": []
          },
          "execution_count": 74
        }
      ]
    },
    {
      "cell_type": "code",
      "metadata": {
        "colab": {
          "base_uri": "https://localhost:8080/"
        },
        "id": "cAjrOsuFwaOI",
        "outputId": "b71f00fd-4500-460b-eaaa-9906d8a2631a"
      },
      "source": [
        "# checking for the outliers using kurtosis\n",
        "house_1.kurt()"
      ],
      "execution_count": 75,
      "outputs": [
        {
          "output_type": "execute_result",
          "data": {
            "text/plain": [
              "price             34.522444\n",
              "bedrooms          49.063653\n",
              "bathrooms          1.279902\n",
              "sqft_living        5.243093\n",
              "sqft_lot         285.077820\n",
              "floors            -0.484723\n",
              "waterfront       127.632494\n",
              "view              10.893022\n",
              "condition          0.525764\n",
              "grade              1.190932\n",
              "sqft_above         3.402304\n",
              "sqft_basement      2.715574\n",
              "yr_built          -0.657408\n",
              "yr_renovated      18.701152\n",
              "lat               -0.676313\n",
              "long               1.049501\n",
              "sqft_living15      1.597096\n",
              "sqft_lot15       150.763110\n",
              "dtype: float64"
            ]
          },
          "metadata": {
            "tags": []
          },
          "execution_count": 75
        }
      ]
    },
    {
      "cell_type": "markdown",
      "metadata": {
        "id": "PgNkLb4OwiLe"
      },
      "source": [
        "I have recognised the precence of outlirs but i will not remove them because some rooms by be very large with also large specifications and thus causing extream values"
      ]
    },
    {
      "cell_type": "code",
      "metadata": {
        "colab": {
          "base_uri": "https://localhost:8080/"
        },
        "id": "vxBCc0r2xmdN",
        "outputId": "3d998187-89c6-48ee-b2d6-eada2ddc870b"
      },
      "source": [
        "house_1.duplicated().sum()"
      ],
      "execution_count": 76,
      "outputs": [
        {
          "output_type": "execute_result",
          "data": {
            "text/plain": [
              "5"
            ]
          },
          "metadata": {
            "tags": []
          },
          "execution_count": 76
        }
      ]
    },
    {
      "cell_type": "markdown",
      "metadata": {
        "id": "yMMqRrrcxvBy"
      },
      "source": [
        "In this case i will not reove the duplicated values because some rooms may have similar specifications thus calling for the presence of duplication of values"
      ]
    },
    {
      "cell_type": "markdown",
      "metadata": {
        "id": "RA9YN7rcynRg"
      },
      "source": [
        "### **incorporating a cartegorical variable**"
      ]
    },
    {
      "cell_type": "markdown",
      "metadata": {
        "id": "SoSvM-arywHt"
      },
      "source": [
        "The size of the room will be measured by the number of bedrooms, the more the bedroos the larger the house.The cartegorical variable will be whether a house a many bedrooms or few.\n",
        "a room with above 4 bedroos will be considered as having many while below 4 the room will be considered to having few bedrooms\n",
        "\n",
        "bedrooms >= 4 = 1\n",
        "\n",
        "bedrooms < 4 = 0"
      ]
    },
    {
      "cell_type": "code",
      "metadata": {
        "id": "5I1GkqN3zW69"
      },
      "source": [
        "def f(row):\n",
        "    if row['bedrooms'] >= 4:\n",
        "        val = 1\n",
        "    else:\n",
        "        val = 0\n",
        "    return val\n",
        "\n",
        "house_1['rating'] = house_1.apply(f, axis=1)"
      ],
      "execution_count": 77,
      "outputs": []
    },
    {
      "cell_type": "code",
      "metadata": {
        "colab": {
          "base_uri": "https://localhost:8080/",
          "height": 224
        },
        "id": "n530QTbQ0yg1",
        "outputId": "00a4cb1b-b468-4680-d47e-d8d55b359c06"
      },
      "source": [
        "house_1.head()"
      ],
      "execution_count": 78,
      "outputs": [
        {
          "output_type": "execute_result",
          "data": {
            "text/html": [
              "<div>\n",
              "<style scoped>\n",
              "    .dataframe tbody tr th:only-of-type {\n",
              "        vertical-align: middle;\n",
              "    }\n",
              "\n",
              "    .dataframe tbody tr th {\n",
              "        vertical-align: top;\n",
              "    }\n",
              "\n",
              "    .dataframe thead th {\n",
              "        text-align: right;\n",
              "    }\n",
              "</style>\n",
              "<table border=\"1\" class=\"dataframe\">\n",
              "  <thead>\n",
              "    <tr style=\"text-align: right;\">\n",
              "      <th></th>\n",
              "      <th>price</th>\n",
              "      <th>bedrooms</th>\n",
              "      <th>bathrooms</th>\n",
              "      <th>sqft_living</th>\n",
              "      <th>sqft_lot</th>\n",
              "      <th>floors</th>\n",
              "      <th>waterfront</th>\n",
              "      <th>view</th>\n",
              "      <th>condition</th>\n",
              "      <th>grade</th>\n",
              "      <th>sqft_above</th>\n",
              "      <th>sqft_basement</th>\n",
              "      <th>yr_built</th>\n",
              "      <th>yr_renovated</th>\n",
              "      <th>lat</th>\n",
              "      <th>long</th>\n",
              "      <th>sqft_living15</th>\n",
              "      <th>sqft_lot15</th>\n",
              "      <th>rating</th>\n",
              "    </tr>\n",
              "  </thead>\n",
              "  <tbody>\n",
              "    <tr>\n",
              "      <th>0</th>\n",
              "      <td>221900.0</td>\n",
              "      <td>3</td>\n",
              "      <td>1.00</td>\n",
              "      <td>1180</td>\n",
              "      <td>5650</td>\n",
              "      <td>1.0</td>\n",
              "      <td>0</td>\n",
              "      <td>0</td>\n",
              "      <td>3</td>\n",
              "      <td>7</td>\n",
              "      <td>1180</td>\n",
              "      <td>0</td>\n",
              "      <td>1955</td>\n",
              "      <td>0</td>\n",
              "      <td>47.5112</td>\n",
              "      <td>-122.257</td>\n",
              "      <td>1340</td>\n",
              "      <td>5650</td>\n",
              "      <td>0</td>\n",
              "    </tr>\n",
              "    <tr>\n",
              "      <th>1</th>\n",
              "      <td>538000.0</td>\n",
              "      <td>3</td>\n",
              "      <td>2.25</td>\n",
              "      <td>2570</td>\n",
              "      <td>7242</td>\n",
              "      <td>2.0</td>\n",
              "      <td>0</td>\n",
              "      <td>0</td>\n",
              "      <td>3</td>\n",
              "      <td>7</td>\n",
              "      <td>2170</td>\n",
              "      <td>400</td>\n",
              "      <td>1951</td>\n",
              "      <td>1991</td>\n",
              "      <td>47.7210</td>\n",
              "      <td>-122.319</td>\n",
              "      <td>1690</td>\n",
              "      <td>7639</td>\n",
              "      <td>0</td>\n",
              "    </tr>\n",
              "    <tr>\n",
              "      <th>2</th>\n",
              "      <td>180000.0</td>\n",
              "      <td>2</td>\n",
              "      <td>1.00</td>\n",
              "      <td>770</td>\n",
              "      <td>10000</td>\n",
              "      <td>1.0</td>\n",
              "      <td>0</td>\n",
              "      <td>0</td>\n",
              "      <td>3</td>\n",
              "      <td>6</td>\n",
              "      <td>770</td>\n",
              "      <td>0</td>\n",
              "      <td>1933</td>\n",
              "      <td>0</td>\n",
              "      <td>47.7379</td>\n",
              "      <td>-122.233</td>\n",
              "      <td>2720</td>\n",
              "      <td>8062</td>\n",
              "      <td>0</td>\n",
              "    </tr>\n",
              "    <tr>\n",
              "      <th>3</th>\n",
              "      <td>604000.0</td>\n",
              "      <td>4</td>\n",
              "      <td>3.00</td>\n",
              "      <td>1960</td>\n",
              "      <td>5000</td>\n",
              "      <td>1.0</td>\n",
              "      <td>0</td>\n",
              "      <td>0</td>\n",
              "      <td>5</td>\n",
              "      <td>7</td>\n",
              "      <td>1050</td>\n",
              "      <td>910</td>\n",
              "      <td>1965</td>\n",
              "      <td>0</td>\n",
              "      <td>47.5208</td>\n",
              "      <td>-122.393</td>\n",
              "      <td>1360</td>\n",
              "      <td>5000</td>\n",
              "      <td>1</td>\n",
              "    </tr>\n",
              "    <tr>\n",
              "      <th>4</th>\n",
              "      <td>510000.0</td>\n",
              "      <td>3</td>\n",
              "      <td>2.00</td>\n",
              "      <td>1680</td>\n",
              "      <td>8080</td>\n",
              "      <td>1.0</td>\n",
              "      <td>0</td>\n",
              "      <td>0</td>\n",
              "      <td>3</td>\n",
              "      <td>8</td>\n",
              "      <td>1680</td>\n",
              "      <td>0</td>\n",
              "      <td>1987</td>\n",
              "      <td>0</td>\n",
              "      <td>47.6168</td>\n",
              "      <td>-122.045</td>\n",
              "      <td>1800</td>\n",
              "      <td>7503</td>\n",
              "      <td>0</td>\n",
              "    </tr>\n",
              "  </tbody>\n",
              "</table>\n",
              "</div>"
            ],
            "text/plain": [
              "      price  bedrooms  bathrooms  ...  sqft_living15  sqft_lot15  rating\n",
              "0  221900.0         3       1.00  ...           1340        5650       0\n",
              "1  538000.0         3       2.25  ...           1690        7639       0\n",
              "2  180000.0         2       1.00  ...           2720        8062       0\n",
              "3  604000.0         4       3.00  ...           1360        5000       1\n",
              "4  510000.0         3       2.00  ...           1800        7503       0\n",
              "\n",
              "[5 rows x 19 columns]"
            ]
          },
          "metadata": {
            "tags": []
          },
          "execution_count": 78
        }
      ]
    },
    {
      "cell_type": "code",
      "metadata": {
        "colab": {
          "base_uri": "https://localhost:8080/"
        },
        "id": "inNhsV8g1fqL",
        "outputId": "16c21e78-cbbb-413e-a8db-7d74f9e8cfe4"
      },
      "source": [
        "house_1.info()"
      ],
      "execution_count": 79,
      "outputs": [
        {
          "output_type": "stream",
          "text": [
            "<class 'pandas.core.frame.DataFrame'>\n",
            "RangeIndex: 21613 entries, 0 to 21612\n",
            "Data columns (total 19 columns):\n",
            " #   Column         Non-Null Count  Dtype  \n",
            "---  ------         --------------  -----  \n",
            " 0   price          21613 non-null  float64\n",
            " 1   bedrooms       21613 non-null  int64  \n",
            " 2   bathrooms      21613 non-null  float64\n",
            " 3   sqft_living    21613 non-null  int64  \n",
            " 4   sqft_lot       21613 non-null  int64  \n",
            " 5   floors         21613 non-null  float64\n",
            " 6   waterfront     21613 non-null  int64  \n",
            " 7   view           21613 non-null  int64  \n",
            " 8   condition      21613 non-null  int64  \n",
            " 9   grade          21613 non-null  int64  \n",
            " 10  sqft_above     21613 non-null  int64  \n",
            " 11  sqft_basement  21613 non-null  int64  \n",
            " 12  yr_built       21613 non-null  int64  \n",
            " 13  yr_renovated   21613 non-null  int64  \n",
            " 14  lat            21613 non-null  float64\n",
            " 15  long           21613 non-null  float64\n",
            " 16  sqft_living15  21613 non-null  int64  \n",
            " 17  sqft_lot15     21613 non-null  int64  \n",
            " 18  rating         21613 non-null  int64  \n",
            "dtypes: float64(5), int64(14)\n",
            "memory usage: 3.1 MB\n"
          ],
          "name": "stdout"
        }
      ]
    },
    {
      "cell_type": "markdown",
      "metadata": {
        "id": "4Cb1UkndyG4X"
      },
      "source": [
        "## **4. Exploratory data analysis**"
      ]
    },
    {
      "cell_type": "code",
      "metadata": {
        "colab": {
          "base_uri": "https://localhost:8080/",
          "height": 317
        },
        "id": "0uHyl-a81qAc",
        "outputId": "978b6a72-a1b5-4303-a872-9db4763e4be6"
      },
      "source": [
        "#summary of the dataset\n",
        "house_1.describe()"
      ],
      "execution_count": 80,
      "outputs": [
        {
          "output_type": "execute_result",
          "data": {
            "text/html": [
              "<div>\n",
              "<style scoped>\n",
              "    .dataframe tbody tr th:only-of-type {\n",
              "        vertical-align: middle;\n",
              "    }\n",
              "\n",
              "    .dataframe tbody tr th {\n",
              "        vertical-align: top;\n",
              "    }\n",
              "\n",
              "    .dataframe thead th {\n",
              "        text-align: right;\n",
              "    }\n",
              "</style>\n",
              "<table border=\"1\" class=\"dataframe\">\n",
              "  <thead>\n",
              "    <tr style=\"text-align: right;\">\n",
              "      <th></th>\n",
              "      <th>price</th>\n",
              "      <th>bedrooms</th>\n",
              "      <th>bathrooms</th>\n",
              "      <th>sqft_living</th>\n",
              "      <th>sqft_lot</th>\n",
              "      <th>floors</th>\n",
              "      <th>waterfront</th>\n",
              "      <th>view</th>\n",
              "      <th>condition</th>\n",
              "      <th>grade</th>\n",
              "      <th>sqft_above</th>\n",
              "      <th>sqft_basement</th>\n",
              "      <th>yr_built</th>\n",
              "      <th>yr_renovated</th>\n",
              "      <th>lat</th>\n",
              "      <th>long</th>\n",
              "      <th>sqft_living15</th>\n",
              "      <th>sqft_lot15</th>\n",
              "      <th>rating</th>\n",
              "    </tr>\n",
              "  </thead>\n",
              "  <tbody>\n",
              "    <tr>\n",
              "      <th>count</th>\n",
              "      <td>2.161300e+04</td>\n",
              "      <td>21613.000000</td>\n",
              "      <td>21613.000000</td>\n",
              "      <td>21613.000000</td>\n",
              "      <td>2.161300e+04</td>\n",
              "      <td>21613.000000</td>\n",
              "      <td>21613.000000</td>\n",
              "      <td>21613.000000</td>\n",
              "      <td>21613.000000</td>\n",
              "      <td>21613.000000</td>\n",
              "      <td>21613.000000</td>\n",
              "      <td>21613.000000</td>\n",
              "      <td>21613.000000</td>\n",
              "      <td>21613.000000</td>\n",
              "      <td>21613.000000</td>\n",
              "      <td>21613.000000</td>\n",
              "      <td>21613.000000</td>\n",
              "      <td>21613.000000</td>\n",
              "      <td>21613.000000</td>\n",
              "    </tr>\n",
              "    <tr>\n",
              "      <th>mean</th>\n",
              "      <td>5.401822e+05</td>\n",
              "      <td>3.370842</td>\n",
              "      <td>2.114757</td>\n",
              "      <td>2079.899736</td>\n",
              "      <td>1.510697e+04</td>\n",
              "      <td>1.494309</td>\n",
              "      <td>0.007542</td>\n",
              "      <td>0.234303</td>\n",
              "      <td>3.409430</td>\n",
              "      <td>7.656873</td>\n",
              "      <td>1788.390691</td>\n",
              "      <td>291.509045</td>\n",
              "      <td>1971.005136</td>\n",
              "      <td>84.402258</td>\n",
              "      <td>47.560053</td>\n",
              "      <td>-122.213896</td>\n",
              "      <td>1986.552492</td>\n",
              "      <td>12768.455652</td>\n",
              "      <td>0.407949</td>\n",
              "    </tr>\n",
              "    <tr>\n",
              "      <th>std</th>\n",
              "      <td>3.673622e+05</td>\n",
              "      <td>0.930062</td>\n",
              "      <td>0.770163</td>\n",
              "      <td>918.440897</td>\n",
              "      <td>4.142051e+04</td>\n",
              "      <td>0.539989</td>\n",
              "      <td>0.086517</td>\n",
              "      <td>0.766318</td>\n",
              "      <td>0.650743</td>\n",
              "      <td>1.175459</td>\n",
              "      <td>828.090978</td>\n",
              "      <td>442.575043</td>\n",
              "      <td>29.373411</td>\n",
              "      <td>401.679240</td>\n",
              "      <td>0.138564</td>\n",
              "      <td>0.140828</td>\n",
              "      <td>685.391304</td>\n",
              "      <td>27304.179631</td>\n",
              "      <td>0.491465</td>\n",
              "    </tr>\n",
              "    <tr>\n",
              "      <th>min</th>\n",
              "      <td>7.500000e+04</td>\n",
              "      <td>0.000000</td>\n",
              "      <td>0.000000</td>\n",
              "      <td>290.000000</td>\n",
              "      <td>5.200000e+02</td>\n",
              "      <td>1.000000</td>\n",
              "      <td>0.000000</td>\n",
              "      <td>0.000000</td>\n",
              "      <td>1.000000</td>\n",
              "      <td>1.000000</td>\n",
              "      <td>290.000000</td>\n",
              "      <td>0.000000</td>\n",
              "      <td>1900.000000</td>\n",
              "      <td>0.000000</td>\n",
              "      <td>47.155900</td>\n",
              "      <td>-122.519000</td>\n",
              "      <td>399.000000</td>\n",
              "      <td>651.000000</td>\n",
              "      <td>0.000000</td>\n",
              "    </tr>\n",
              "    <tr>\n",
              "      <th>25%</th>\n",
              "      <td>3.219500e+05</td>\n",
              "      <td>3.000000</td>\n",
              "      <td>1.750000</td>\n",
              "      <td>1427.000000</td>\n",
              "      <td>5.040000e+03</td>\n",
              "      <td>1.000000</td>\n",
              "      <td>0.000000</td>\n",
              "      <td>0.000000</td>\n",
              "      <td>3.000000</td>\n",
              "      <td>7.000000</td>\n",
              "      <td>1190.000000</td>\n",
              "      <td>0.000000</td>\n",
              "      <td>1951.000000</td>\n",
              "      <td>0.000000</td>\n",
              "      <td>47.471000</td>\n",
              "      <td>-122.328000</td>\n",
              "      <td>1490.000000</td>\n",
              "      <td>5100.000000</td>\n",
              "      <td>0.000000</td>\n",
              "    </tr>\n",
              "    <tr>\n",
              "      <th>50%</th>\n",
              "      <td>4.500000e+05</td>\n",
              "      <td>3.000000</td>\n",
              "      <td>2.250000</td>\n",
              "      <td>1910.000000</td>\n",
              "      <td>7.618000e+03</td>\n",
              "      <td>1.500000</td>\n",
              "      <td>0.000000</td>\n",
              "      <td>0.000000</td>\n",
              "      <td>3.000000</td>\n",
              "      <td>7.000000</td>\n",
              "      <td>1560.000000</td>\n",
              "      <td>0.000000</td>\n",
              "      <td>1975.000000</td>\n",
              "      <td>0.000000</td>\n",
              "      <td>47.571800</td>\n",
              "      <td>-122.230000</td>\n",
              "      <td>1840.000000</td>\n",
              "      <td>7620.000000</td>\n",
              "      <td>0.000000</td>\n",
              "    </tr>\n",
              "    <tr>\n",
              "      <th>75%</th>\n",
              "      <td>6.450000e+05</td>\n",
              "      <td>4.000000</td>\n",
              "      <td>2.500000</td>\n",
              "      <td>2550.000000</td>\n",
              "      <td>1.068800e+04</td>\n",
              "      <td>2.000000</td>\n",
              "      <td>0.000000</td>\n",
              "      <td>0.000000</td>\n",
              "      <td>4.000000</td>\n",
              "      <td>8.000000</td>\n",
              "      <td>2210.000000</td>\n",
              "      <td>560.000000</td>\n",
              "      <td>1997.000000</td>\n",
              "      <td>0.000000</td>\n",
              "      <td>47.678000</td>\n",
              "      <td>-122.125000</td>\n",
              "      <td>2360.000000</td>\n",
              "      <td>10083.000000</td>\n",
              "      <td>1.000000</td>\n",
              "    </tr>\n",
              "    <tr>\n",
              "      <th>max</th>\n",
              "      <td>7.700000e+06</td>\n",
              "      <td>33.000000</td>\n",
              "      <td>8.000000</td>\n",
              "      <td>13540.000000</td>\n",
              "      <td>1.651359e+06</td>\n",
              "      <td>3.500000</td>\n",
              "      <td>1.000000</td>\n",
              "      <td>4.000000</td>\n",
              "      <td>5.000000</td>\n",
              "      <td>13.000000</td>\n",
              "      <td>9410.000000</td>\n",
              "      <td>4820.000000</td>\n",
              "      <td>2015.000000</td>\n",
              "      <td>2015.000000</td>\n",
              "      <td>47.777600</td>\n",
              "      <td>-121.315000</td>\n",
              "      <td>6210.000000</td>\n",
              "      <td>871200.000000</td>\n",
              "      <td>1.000000</td>\n",
              "    </tr>\n",
              "  </tbody>\n",
              "</table>\n",
              "</div>"
            ],
            "text/plain": [
              "              price      bedrooms  ...     sqft_lot15        rating\n",
              "count  2.161300e+04  21613.000000  ...   21613.000000  21613.000000\n",
              "mean   5.401822e+05      3.370842  ...   12768.455652      0.407949\n",
              "std    3.673622e+05      0.930062  ...   27304.179631      0.491465\n",
              "min    7.500000e+04      0.000000  ...     651.000000      0.000000\n",
              "25%    3.219500e+05      3.000000  ...    5100.000000      0.000000\n",
              "50%    4.500000e+05      3.000000  ...    7620.000000      0.000000\n",
              "75%    6.450000e+05      4.000000  ...   10083.000000      1.000000\n",
              "max    7.700000e+06     33.000000  ...  871200.000000      1.000000\n",
              "\n",
              "[8 rows x 19 columns]"
            ]
          },
          "metadata": {
            "tags": []
          },
          "execution_count": 80
        }
      ]
    },
    {
      "cell_type": "markdown",
      "metadata": {
        "id": "YWox0Yu_384Q"
      },
      "source": [
        "### **a) Univariate Analysis**"
      ]
    },
    {
      "cell_type": "code",
      "metadata": {
        "colab": {
          "base_uri": "https://localhost:8080/",
          "height": 905
        },
        "id": "4qnlTYnj13qZ",
        "outputId": "91f491ac-f688-421d-eace-59c5294f5bbf"
      },
      "source": [
        "# plotting  the 'price', 'bedrooms', 'bathrooms', 'sqft_living', 'sqft_lot', 'floors', 'waterfront', 'view' columns\n",
        "# using the density plot\n",
        "df = house_1[['price', 'bedrooms', 'bathrooms', 'sqft_living', 'sqft_lot', 'floors', 'waterfront', 'view' ]]\n",
        "df1 = df.describe()\n",
        "df1 \n",
        "\n",
        "sns.set(font_scale=1.3)\n",
        "fig, axes = plt.subplots(4, 2, figsize=(18, 14))\n",
        "axes = [ax for axes_row in axes for ax in axes_row]\n",
        "for i, c in enumerate(df1 ):\n",
        "  plot = sns.kdeplot(data=house_1, x=c, ax=axes[i], fill=True)\n",
        "plt.tight_layout()"
      ],
      "execution_count": 81,
      "outputs": [
        {
          "output_type": "display_data",
          "data": {
            "image/png": "[encoded data removed]",
            "text/plain": [
              "<Figure size 1296x1008 with 8 Axes>"
            ]
          },
          "metadata": {
            "tags": []
          }
        }
      ]
    },
    {
      "cell_type": "markdown",
      "metadata": {
        "id": "aqy55yH03wAw"
      },
      "source": [
        "From the graphs we can observe that the variables don't have a normal distribution.since for a normal distribution has a bell-sahaped figure around the mean."
      ]
    },
    {
      "cell_type": "markdown",
      "metadata": {
        "id": "oB42R3b034kN"
      },
      "source": [
        "### **b) Bivariate analysis**"
      ]
    },
    {
      "cell_type": "code",
      "metadata": {
        "colab": {
          "base_uri": "https://localhost:8080/",
          "height": 1000
        },
        "id": "wSSw0WR74a_t",
        "outputId": "f86043b2-18fc-46f5-d7e0-726191a3442f"
      },
      "source": [
        "import warnings\n",
        "warnings.simplefilter('ignore')\n",
        "sns.pairplot(data=df)"
      ],
      "execution_count": 82,
      "outputs": [
        {
          "output_type": "execute_result",
          "data": {
            "text/plain": [
              "<seaborn.axisgrid.PairGrid at 0x7f75b53fb320>"
            ]
          },
          "metadata": {
            "tags": []
          },
          "execution_count": 82
        },
        {
          "output_type": "display_data",
          "data": {
            "image/png": "[encoded data removed]",
            "text/plain": [
              "<Figure size 1440x1440 with 72 Axes>"
            ]
          },
          "metadata": {
            "tags": []
          }
        }
      ]
    },
    {
      "cell_type": "markdown",
      "metadata": {
        "id": "gQqX71gc4wdy"
      },
      "source": [
        "The pair plot will enable in understanding the relationship of each variable with the other one. For example, some variables are exhibiting a linear relationship such as the bathrooms and the sqft_living variacles"
      ]
    },
    {
      "cell_type": "markdown",
      "metadata": {
        "id": "JxWYoFnt5XDf"
      },
      "source": [
        "### **c) Multivariate analysis**"
      ]
    },
    {
      "cell_type": "markdown",
      "metadata": {
        "id": "sGe9OGZk5gAK"
      },
      "source": [
        "#### **Factor Aanalysis**"
      ]
    },
    {
      "cell_type": "markdown",
      "metadata": {
        "id": "X9zKDWCj5rv-"
      },
      "source": [
        "I will chose factor analysis technique as my reduction technique because the dependent variable(price) is a continous variable. For principal component analysi and Linear disciminant analysis requres a cartegorical dependent variable and a continous independent variables."
      ]
    },
    {
      "cell_type": "code",
      "metadata": {
        "colab": {
          "base_uri": "https://localhost:8080/"
        },
        "id": "jAZG05l558aY",
        "outputId": "da80dca2-ffbf-42b2-bc42-a7ee8beda660"
      },
      "source": [
        "# Installing factor analyzer \n",
        "!pip install factor_analyzer==0.2.3"
      ],
      "execution_count": 83,
      "outputs": [
        {
          "output_type": "stream",
          "text": [
            "Requirement already satisfied: factor_analyzer==0.2.3 in /usr/local/lib/python3.6/dist-packages (0.2.3)\n",
            "Requirement already satisfied: numpy in /usr/local/lib/python3.6/dist-packages (from factor_analyzer==0.2.3) (1.18.5)\n",
            "Requirement already satisfied: scipy in /usr/local/lib/python3.6/dist-packages (from factor_analyzer==0.2.3) (1.4.1)\n",
            "Requirement already satisfied: pandas in /usr/local/lib/python3.6/dist-packages (from factor_analyzer==0.2.3) (1.1.4)\n",
            "Requirement already satisfied: python-dateutil>=2.7.3 in /usr/local/lib/python3.6/dist-packages (from pandas->factor_analyzer==0.2.3) (2.8.1)\n",
            "Requirement already satisfied: pytz>=2017.2 in /usr/local/lib/python3.6/dist-packages (from pandas->factor_analyzer==0.2.3) (2018.9)\n",
            "Requirement already satisfied: six>=1.5 in /usr/local/lib/python3.6/dist-packages (from python-dateutil>=2.7.3->pandas->factor_analyzer==0.2.3) (1.15.0)\n"
          ],
          "name": "stdout"
        }
      ]
    },
    {
      "cell_type": "code",
      "metadata": {
        "colab": {
          "base_uri": "https://localhost:8080/"
        },
        "id": "FoPq9dIf6CAA",
        "outputId": "f9c520b8-0143-49bc-eebc-1b0b76154721"
      },
      "source": [
        "#Adequacy Test using bartlett test\n",
        "df1 = house_1.drop(['price'], axis='columns')\n",
        "from factor_analyzer.factor_analyzer import calculate_bartlett_sphericity\n",
        "\n",
        "chi_square_value,p_value=calculate_bartlett_sphericity(df1)\n",
        "chi_square_value, p_value"
      ],
      "execution_count": 84,
      "outputs": [
        {
          "output_type": "execute_result",
          "data": {
            "text/plain": [
              "(nan, nan)"
            ]
          },
          "metadata": {
            "tags": []
          },
          "execution_count": 84
        }
      ]
    },
    {
      "cell_type": "markdown",
      "metadata": {
        "id": "hqtsaETp63Ab"
      },
      "source": [
        "Bartlett test is for testing the homogeneity of variance across groups, in my case, there are no variance, as all the groups contain equal values."
      ]
    },
    {
      "cell_type": "code",
      "metadata": {
        "colab": {
          "base_uri": "https://localhost:8080/"
        },
        "id": "KD21k8xD7QD4",
        "outputId": "a0c6cc2c-3c45-4907-d5d6-f71bf0528a6b"
      },
      "source": [
        "from factor_analyzer.factor_analyzer import calculate_kmo\n",
        "\n",
        "kmo_all,kmo_model=calculate_kmo(df1)\n",
        "kmo_model"
      ],
      "execution_count": 85,
      "outputs": [
        {
          "output_type": "execute_result",
          "data": {
            "text/plain": [
              "0.7196049410367004"
            ]
          },
          "metadata": {
            "tags": []
          },
          "execution_count": 85
        }
      ]
    },
    {
      "cell_type": "markdown",
      "metadata": {
        "id": "laNv5hTP7aBF"
      },
      "source": [
        "The overall KMO for our data is 0.7196049410367004, which is not that bad. This value indicates that you can proceed with your planned factor analysis."
      ]
    },
    {
      "cell_type": "code",
      "metadata": {
        "colab": {
          "base_uri": "https://localhost:8080/",
          "height": 607
        },
        "id": "HI_HPYlr7kIc",
        "outputId": "aa216ee0-59bf-4fd2-95b6-bca309a88e37"
      },
      "source": [
        "#Choosing the Number of Factors\n",
        "\n",
        "# Creating factor analysis object and perform factor analysis\n",
        "from factor_analyzer.factor_analyzer import FactorAnalyzer\n",
        "fa = FactorAnalyzer()\n",
        "fa.analyze(df1, 5, rotation=None)\n",
        "\n",
        "# Checking the Eigenvalues\n",
        "ev, v = fa.get_eigenvalues()\n",
        "ev"
      ],
      "execution_count": 86,
      "outputs": [
        {
          "output_type": "execute_result",
          "data": {
            "text/html": [
              "<div>\n",
              "<style scoped>\n",
              "    .dataframe tbody tr th:only-of-type {\n",
              "        vertical-align: middle;\n",
              "    }\n",
              "\n",
              "    .dataframe tbody tr th {\n",
              "        vertical-align: top;\n",
              "    }\n",
              "\n",
              "    .dataframe thead th {\n",
              "        text-align: right;\n",
              "    }\n",
              "</style>\n",
              "<table border=\"1\" class=\"dataframe\">\n",
              "  <thead>\n",
              "    <tr style=\"text-align: right;\">\n",
              "      <th></th>\n",
              "      <th>Original_Eigenvalues</th>\n",
              "    </tr>\n",
              "  </thead>\n",
              "  <tbody>\n",
              "    <tr>\n",
              "      <th>0</th>\n",
              "      <td>5.437434e+00</td>\n",
              "    </tr>\n",
              "    <tr>\n",
              "      <th>1</th>\n",
              "      <td>2.124266e+00</td>\n",
              "    </tr>\n",
              "    <tr>\n",
              "      <th>2</th>\n",
              "      <td>1.813782e+00</td>\n",
              "    </tr>\n",
              "    <tr>\n",
              "      <th>3</th>\n",
              "      <td>1.453805e+00</td>\n",
              "    </tr>\n",
              "    <tr>\n",
              "      <th>4</th>\n",
              "      <td>1.092877e+00</td>\n",
              "    </tr>\n",
              "    <tr>\n",
              "      <th>5</th>\n",
              "      <td>1.030997e+00</td>\n",
              "    </tr>\n",
              "    <tr>\n",
              "      <th>6</th>\n",
              "      <td>8.461361e-01</td>\n",
              "    </tr>\n",
              "    <tr>\n",
              "      <th>7</th>\n",
              "      <td>8.171877e-01</td>\n",
              "    </tr>\n",
              "    <tr>\n",
              "      <th>8</th>\n",
              "      <td>7.594950e-01</td>\n",
              "    </tr>\n",
              "    <tr>\n",
              "      <th>9</th>\n",
              "      <td>6.233704e-01</td>\n",
              "    </tr>\n",
              "    <tr>\n",
              "      <th>10</th>\n",
              "      <td>5.126266e-01</td>\n",
              "    </tr>\n",
              "    <tr>\n",
              "      <th>11</th>\n",
              "      <td>3.323432e-01</td>\n",
              "    </tr>\n",
              "    <tr>\n",
              "      <th>12</th>\n",
              "      <td>2.873728e-01</td>\n",
              "    </tr>\n",
              "    <tr>\n",
              "      <th>13</th>\n",
              "      <td>2.699807e-01</td>\n",
              "    </tr>\n",
              "    <tr>\n",
              "      <th>14</th>\n",
              "      <td>2.262090e-01</td>\n",
              "    </tr>\n",
              "    <tr>\n",
              "      <th>15</th>\n",
              "      <td>1.913305e-01</td>\n",
              "    </tr>\n",
              "    <tr>\n",
              "      <th>16</th>\n",
              "      <td>1.807876e-01</td>\n",
              "    </tr>\n",
              "    <tr>\n",
              "      <th>17</th>\n",
              "      <td>-1.460286e-14</td>\n",
              "    </tr>\n",
              "  </tbody>\n",
              "</table>\n",
              "</div>"
            ],
            "text/plain": [
              "    Original_Eigenvalues\n",
              "0           5.437434e+00\n",
              "1           2.124266e+00\n",
              "2           1.813782e+00\n",
              "3           1.453805e+00\n",
              "4           1.092877e+00\n",
              "5           1.030997e+00\n",
              "6           8.461361e-01\n",
              "7           8.171877e-01\n",
              "8           7.594950e-01\n",
              "9           6.233704e-01\n",
              "10          5.126266e-01\n",
              "11          3.323432e-01\n",
              "12          2.873728e-01\n",
              "13          2.699807e-01\n",
              "14          2.262090e-01\n",
              "15          1.913305e-01\n",
              "16          1.807876e-01\n",
              "17         -1.460286e-14"
            ]
          },
          "metadata": {
            "tags": []
          },
          "execution_count": 86
        }
      ]
    },
    {
      "cell_type": "markdown",
      "metadata": {
        "id": "7ROiQ1to7wF7"
      },
      "source": [
        "Here, we can see only for 16-factors eigenvalues are greater than one. It means we need to choose only 16 factors (or unobserved variables)"
      ]
    },
    {
      "cell_type": "code",
      "metadata": {
        "colab": {
          "base_uri": "https://localhost:8080/",
          "height": 627
        },
        "id": "LIp4d8ME8JPT",
        "outputId": "2d7f6aca-2759-4286-aabc-fe940873b241"
      },
      "source": [
        "#Performing Factor Analysis\n",
        "# Creating factor analysis object and perform factor analysis\n",
        "#\n",
        "fa = FactorAnalyzer()\n",
        "fa.analyze(df1, 16, rotation=\"varimax\")\n",
        "fa.loadings"
      ],
      "execution_count": 87,
      "outputs": [
        {
          "output_type": "execute_result",
          "data": {
            "text/html": [
              "<div>\n",
              "<style scoped>\n",
              "    .dataframe tbody tr th:only-of-type {\n",
              "        vertical-align: middle;\n",
              "    }\n",
              "\n",
              "    .dataframe tbody tr th {\n",
              "        vertical-align: top;\n",
              "    }\n",
              "\n",
              "    .dataframe thead th {\n",
              "        text-align: right;\n",
              "    }\n",
              "</style>\n",
              "<table border=\"1\" class=\"dataframe\">\n",
              "  <thead>\n",
              "    <tr style=\"text-align: right;\">\n",
              "      <th></th>\n",
              "      <th>Factor1</th>\n",
              "      <th>Factor2</th>\n",
              "      <th>Factor3</th>\n",
              "      <th>Factor4</th>\n",
              "      <th>Factor5</th>\n",
              "      <th>Factor6</th>\n",
              "      <th>Factor7</th>\n",
              "      <th>Factor8</th>\n",
              "      <th>Factor9</th>\n",
              "      <th>Factor10</th>\n",
              "      <th>Factor11</th>\n",
              "      <th>Factor12</th>\n",
              "      <th>Factor13</th>\n",
              "      <th>Factor14</th>\n",
              "      <th>Factor15</th>\n",
              "      <th>Factor16</th>\n",
              "    </tr>\n",
              "  </thead>\n",
              "  <tbody>\n",
              "    <tr>\n",
              "      <th>bedrooms</th>\n",
              "      <td>0.290389</td>\n",
              "      <td>0.123107</td>\n",
              "      <td>-0.002096</td>\n",
              "      <td>0.857263</td>\n",
              "      <td>0.077715</td>\n",
              "      <td>-0.010562</td>\n",
              "      <td>0.038076</td>\n",
              "      <td>0.010959</td>\n",
              "      <td>-0.036976</td>\n",
              "      <td>0.080461</td>\n",
              "      <td>-0.033151</td>\n",
              "      <td>0.006532</td>\n",
              "      <td>-0.054617</td>\n",
              "      <td>0.040422</td>\n",
              "      <td>0.045579</td>\n",
              "      <td>-0.032395</td>\n",
              "    </tr>\n",
              "    <tr>\n",
              "      <th>bathrooms</th>\n",
              "      <td>0.612458</td>\n",
              "      <td>0.217523</td>\n",
              "      <td>0.027850</td>\n",
              "      <td>0.298972</td>\n",
              "      <td>0.504914</td>\n",
              "      <td>0.063449</td>\n",
              "      <td>0.101786</td>\n",
              "      <td>0.048675</td>\n",
              "      <td>0.100478</td>\n",
              "      <td>0.196782</td>\n",
              "      <td>-0.022288</td>\n",
              "      <td>0.014010</td>\n",
              "      <td>0.000819</td>\n",
              "      <td>-0.007298</td>\n",
              "      <td>-0.004262</td>\n",
              "      <td>0.011744</td>\n",
              "    </tr>\n",
              "    <tr>\n",
              "      <th>sqft_living</th>\n",
              "      <td>0.856416</td>\n",
              "      <td>0.282665</td>\n",
              "      <td>0.112231</td>\n",
              "      <td>0.330679</td>\n",
              "      <td>0.111220</td>\n",
              "      <td>0.119144</td>\n",
              "      <td>0.061237</td>\n",
              "      <td>0.039488</td>\n",
              "      <td>0.023124</td>\n",
              "      <td>-0.020541</td>\n",
              "      <td>0.015551</td>\n",
              "      <td>-0.120485</td>\n",
              "      <td>0.007333</td>\n",
              "      <td>0.009651</td>\n",
              "      <td>-0.006078</td>\n",
              "      <td>-0.119915</td>\n",
              "    </tr>\n",
              "    <tr>\n",
              "      <th>sqft_lot</th>\n",
              "      <td>0.077073</td>\n",
              "      <td>0.005802</td>\n",
              "      <td>0.849520</td>\n",
              "      <td>0.008955</td>\n",
              "      <td>0.001198</td>\n",
              "      <td>0.025023</td>\n",
              "      <td>0.057577</td>\n",
              "      <td>0.004250</td>\n",
              "      <td>0.004307</td>\n",
              "      <td>0.012633</td>\n",
              "      <td>-0.060328</td>\n",
              "      <td>0.003349</td>\n",
              "      <td>0.003402</td>\n",
              "      <td>-0.104965</td>\n",
              "      <td>0.031891</td>\n",
              "      <td>-0.022945</td>\n",
              "    </tr>\n",
              "    <tr>\n",
              "      <th>floors</th>\n",
              "      <td>0.383517</td>\n",
              "      <td>-0.251064</td>\n",
              "      <td>-0.036482</td>\n",
              "      <td>0.080620</td>\n",
              "      <td>0.565873</td>\n",
              "      <td>0.011340</td>\n",
              "      <td>-0.023990</td>\n",
              "      <td>-0.011177</td>\n",
              "      <td>0.281340</td>\n",
              "      <td>-0.064302</td>\n",
              "      <td>0.066109</td>\n",
              "      <td>-0.013757</td>\n",
              "      <td>-0.007068</td>\n",
              "      <td>-0.005933</td>\n",
              "      <td>0.007762</td>\n",
              "      <td>-0.009745</td>\n",
              "    </tr>\n",
              "    <tr>\n",
              "      <th>waterfront</th>\n",
              "      <td>0.024515</td>\n",
              "      <td>-0.005259</td>\n",
              "      <td>0.005863</td>\n",
              "      <td>-0.011340</td>\n",
              "      <td>0.020128</td>\n",
              "      <td>0.613203</td>\n",
              "      <td>0.014664</td>\n",
              "      <td>0.066498</td>\n",
              "      <td>-0.008425</td>\n",
              "      <td>0.002920</td>\n",
              "      <td>-0.009906</td>\n",
              "      <td>-0.004840</td>\n",
              "      <td>0.002367</td>\n",
              "      <td>0.014644</td>\n",
              "      <td>-0.068357</td>\n",
              "      <td>-0.065302</td>\n",
              "    </tr>\n",
              "    <tr>\n",
              "      <th>view</th>\n",
              "      <td>0.206105</td>\n",
              "      <td>0.146743</td>\n",
              "      <td>0.050321</td>\n",
              "      <td>0.012256</td>\n",
              "      <td>-0.013712</td>\n",
              "      <td>0.668877</td>\n",
              "      <td>-0.102971</td>\n",
              "      <td>0.061946</td>\n",
              "      <td>-0.044504</td>\n",
              "      <td>-0.002973</td>\n",
              "      <td>-0.014115</td>\n",
              "      <td>0.012186</td>\n",
              "      <td>-0.003896</td>\n",
              "      <td>-0.023612</td>\n",
              "      <td>0.111918</td>\n",
              "      <td>0.115046</td>\n",
              "    </tr>\n",
              "    <tr>\n",
              "      <th>condition</th>\n",
              "      <td>-0.080326</td>\n",
              "      <td>0.087745</td>\n",
              "      <td>0.000110</td>\n",
              "      <td>0.030436</td>\n",
              "      <td>-0.075074</td>\n",
              "      <td>0.032872</td>\n",
              "      <td>-0.041654</td>\n",
              "      <td>-0.070002</td>\n",
              "      <td>-0.608678</td>\n",
              "      <td>0.000162</td>\n",
              "      <td>-0.024194</td>\n",
              "      <td>0.012144</td>\n",
              "      <td>0.003847</td>\n",
              "      <td>0.005605</td>\n",
              "      <td>-0.003726</td>\n",
              "      <td>-0.006025</td>\n",
              "    </tr>\n",
              "    <tr>\n",
              "      <th>grade</th>\n",
              "      <td>0.818280</td>\n",
              "      <td>0.048084</td>\n",
              "      <td>0.059968</td>\n",
              "      <td>0.126290</td>\n",
              "      <td>0.185711</td>\n",
              "      <td>0.112975</td>\n",
              "      <td>0.013779</td>\n",
              "      <td>-0.029996</td>\n",
              "      <td>0.128166</td>\n",
              "      <td>-0.005483</td>\n",
              "      <td>0.146043</td>\n",
              "      <td>0.296964</td>\n",
              "      <td>-0.013136</td>\n",
              "      <td>-0.018119</td>\n",
              "      <td>0.017444</td>\n",
              "      <td>0.026119</td>\n",
              "    </tr>\n",
              "    <tr>\n",
              "      <th>sqft_above</th>\n",
              "      <td>0.884479</td>\n",
              "      <td>-0.186914</td>\n",
              "      <td>0.119640</td>\n",
              "      <td>0.266730</td>\n",
              "      <td>0.162576</td>\n",
              "      <td>0.058422</td>\n",
              "      <td>0.114587</td>\n",
              "      <td>0.016639</td>\n",
              "      <td>0.103513</td>\n",
              "      <td>-0.024631</td>\n",
              "      <td>-0.043278</td>\n",
              "      <td>-0.136786</td>\n",
              "      <td>0.008319</td>\n",
              "      <td>0.010799</td>\n",
              "      <td>-0.008053</td>\n",
              "      <td>-0.137414</td>\n",
              "    </tr>\n",
              "    <tr>\n",
              "      <th>sqft_basement</th>\n",
              "      <td>0.122326</td>\n",
              "      <td>0.936323</td>\n",
              "      <td>0.009049</td>\n",
              "      <td>0.187159</td>\n",
              "      <td>-0.073386</td>\n",
              "      <td>0.137938</td>\n",
              "      <td>-0.087319</td>\n",
              "      <td>0.050813</td>\n",
              "      <td>-0.145694</td>\n",
              "      <td>0.003459</td>\n",
              "      <td>0.113249</td>\n",
              "      <td>0.005903</td>\n",
              "      <td>-0.000348</td>\n",
              "      <td>-0.000176</td>\n",
              "      <td>0.002454</td>\n",
              "      <td>0.008262</td>\n",
              "    </tr>\n",
              "    <tr>\n",
              "      <th>yr_built</th>\n",
              "      <td>0.313002</td>\n",
              "      <td>0.020356</td>\n",
              "      <td>-0.001728</td>\n",
              "      <td>0.030312</td>\n",
              "      <td>0.437156</td>\n",
              "      <td>-0.040413</td>\n",
              "      <td>0.324846</td>\n",
              "      <td>-0.401512</td>\n",
              "      <td>0.542073</td>\n",
              "      <td>0.030528</td>\n",
              "      <td>-0.279628</td>\n",
              "      <td>0.229960</td>\n",
              "      <td>0.045408</td>\n",
              "      <td>0.061550</td>\n",
              "      <td>-0.049329</td>\n",
              "      <td>-0.045726</td>\n",
              "    </tr>\n",
              "    <tr>\n",
              "      <th>yr_renovated</th>\n",
              "      <td>0.011760</td>\n",
              "      <td>0.028109</td>\n",
              "      <td>0.006001</td>\n",
              "      <td>0.011923</td>\n",
              "      <td>-0.001371</td>\n",
              "      <td>0.090252</td>\n",
              "      <td>-0.034447</td>\n",
              "      <td>0.576590</td>\n",
              "      <td>0.042923</td>\n",
              "      <td>0.001640</td>\n",
              "      <td>0.023732</td>\n",
              "      <td>0.001957</td>\n",
              "      <td>0.001167</td>\n",
              "      <td>0.001578</td>\n",
              "      <td>-0.001151</td>\n",
              "      <td>-0.002906</td>\n",
              "    </tr>\n",
              "    <tr>\n",
              "      <th>lat</th>\n",
              "      <td>0.056810</td>\n",
              "      <td>0.049902</td>\n",
              "      <td>-0.065535</td>\n",
              "      <td>-0.015396</td>\n",
              "      <td>0.007156</td>\n",
              "      <td>-0.017744</td>\n",
              "      <td>-0.076448</td>\n",
              "      <td>0.025989</td>\n",
              "      <td>0.004278</td>\n",
              "      <td>-0.000573</td>\n",
              "      <td>0.493670</td>\n",
              "      <td>0.002969</td>\n",
              "      <td>0.000092</td>\n",
              "      <td>0.000007</td>\n",
              "      <td>-0.000122</td>\n",
              "      <td>0.002006</td>\n",
              "    </tr>\n",
              "    <tr>\n",
              "      <th>long</th>\n",
              "      <td>0.234258</td>\n",
              "      <td>-0.088007</td>\n",
              "      <td>0.199502</td>\n",
              "      <td>0.054341</td>\n",
              "      <td>0.023942</td>\n",
              "      <td>-0.086862</td>\n",
              "      <td>0.583125</td>\n",
              "      <td>-0.074150</td>\n",
              "      <td>0.101933</td>\n",
              "      <td>0.002022</td>\n",
              "      <td>-0.174547</td>\n",
              "      <td>-0.001847</td>\n",
              "      <td>-0.001008</td>\n",
              "      <td>-0.000776</td>\n",
              "      <td>-0.000756</td>\n",
              "      <td>0.006595</td>\n",
              "    </tr>\n",
              "    <tr>\n",
              "      <th>sqft_living15</th>\n",
              "      <td>0.783532</td>\n",
              "      <td>0.071195</td>\n",
              "      <td>0.088583</td>\n",
              "      <td>0.193712</td>\n",
              "      <td>-0.055649</td>\n",
              "      <td>0.147302</td>\n",
              "      <td>0.244234</td>\n",
              "      <td>-0.043788</td>\n",
              "      <td>0.066973</td>\n",
              "      <td>0.000706</td>\n",
              "      <td>0.063828</td>\n",
              "      <td>0.008045</td>\n",
              "      <td>0.001649</td>\n",
              "      <td>0.006364</td>\n",
              "      <td>0.006140</td>\n",
              "      <td>0.291144</td>\n",
              "    </tr>\n",
              "    <tr>\n",
              "      <th>sqft_lot15</th>\n",
              "      <td>0.095628</td>\n",
              "      <td>0.008244</td>\n",
              "      <td>0.840618</td>\n",
              "      <td>-0.004593</td>\n",
              "      <td>-0.011312</td>\n",
              "      <td>0.031338</td>\n",
              "      <td>0.101468</td>\n",
              "      <td>0.006541</td>\n",
              "      <td>-0.007344</td>\n",
              "      <td>-0.012005</td>\n",
              "      <td>-0.058846</td>\n",
              "      <td>-0.002279</td>\n",
              "      <td>-0.003355</td>\n",
              "      <td>0.107540</td>\n",
              "      <td>-0.031450</td>\n",
              "      <td>0.027982</td>\n",
              "    </tr>\n",
              "    <tr>\n",
              "      <th>rating</th>\n",
              "      <td>0.278939</td>\n",
              "      <td>0.066548</td>\n",
              "      <td>0.001783</td>\n",
              "      <td>0.844503</td>\n",
              "      <td>0.033448</td>\n",
              "      <td>-0.002905</td>\n",
              "      <td>0.025064</td>\n",
              "      <td>0.007056</td>\n",
              "      <td>-0.006810</td>\n",
              "      <td>-0.070892</td>\n",
              "      <td>-0.003154</td>\n",
              "      <td>0.002610</td>\n",
              "      <td>0.050571</td>\n",
              "      <td>-0.037653</td>\n",
              "      <td>-0.041142</td>\n",
              "      <td>0.041424</td>\n",
              "    </tr>\n",
              "  </tbody>\n",
              "</table>\n",
              "</div>"
            ],
            "text/plain": [
              "                Factor1   Factor2   Factor3  ...  Factor14  Factor15  Factor16\n",
              "bedrooms       0.290389  0.123107 -0.002096  ...  0.040422  0.045579 -0.032395\n",
              "bathrooms      0.612458  0.217523  0.027850  ... -0.007298 -0.004262  0.011744\n",
              "sqft_living    0.856416  0.282665  0.112231  ...  0.009651 -0.006078 -0.119915\n",
              "sqft_lot       0.077073  0.005802  0.849520  ... -0.104965  0.031891 -0.022945\n",
              "floors         0.383517 -0.251064 -0.036482  ... -0.005933  0.007762 -0.009745\n",
              "waterfront     0.024515 -0.005259  0.005863  ...  0.014644 -0.068357 -0.065302\n",
              "view           0.206105  0.146743  0.050321  ... -0.023612  0.111918  0.115046\n",
              "condition     -0.080326  0.087745  0.000110  ...  0.005605 -0.003726 -0.006025\n",
              "grade          0.818280  0.048084  0.059968  ... -0.018119  0.017444  0.026119\n",
              "sqft_above     0.884479 -0.186914  0.119640  ...  0.010799 -0.008053 -0.137414\n",
              "sqft_basement  0.122326  0.936323  0.009049  ... -0.000176  0.002454  0.008262\n",
              "yr_built       0.313002  0.020356 -0.001728  ...  0.061550 -0.049329 -0.045726\n",
              "yr_renovated   0.011760  0.028109  0.006001  ...  0.001578 -0.001151 -0.002906\n",
              "lat            0.056810  0.049902 -0.065535  ...  0.000007 -0.000122  0.002006\n",
              "long           0.234258 -0.088007  0.199502  ... -0.000776 -0.000756  0.006595\n",
              "sqft_living15  0.783532  0.071195  0.088583  ...  0.006364  0.006140  0.291144\n",
              "sqft_lot15     0.095628  0.008244  0.840618  ...  0.107540 -0.031450  0.027982\n",
              "rating         0.278939  0.066548  0.001783  ... -0.037653 -0.041142  0.041424\n",
              "\n",
              "[18 rows x 16 columns]"
            ]
          },
          "metadata": {
            "tags": []
          },
          "execution_count": 87
        }
      ]
    },
    {
      "cell_type": "markdown",
      "metadata": {
        "id": "g3MEtOMX84mp"
      },
      "source": [
        "Factor 1 has a high factor loading for : sqft_above\n",
        "\n",
        "Factor 2 has a high factor loading for : sqft_basement\n",
        "\n",
        "Factor 3 has a high factor loading for : sqft_lot\n",
        "\n",
        "Factor 4 has a high factor loading for : bedrooms\n",
        "\n",
        "Factor 5 has a high factor loading for : foors\n",
        "\n",
        "Factor 6 has a high factor loading for : view\n",
        "\n",
        "Factor 7 has a high factor loading for : long\n",
        "\n",
        "Factor 8 has a high factor loading for : yr_renovated\n",
        "\n",
        "Factor 9 has a high factor loading for : condition\n",
        "\n",
        "Factor 10 has a high factor loading for : bathrooms\n",
        "\n",
        "Factor 11 has a high factor loading for : lat\n",
        "\n",
        "Factor 12 has a high factor loading for : grade\n",
        "\n",
        "Factor 13 has a high factor loading for : rating\n",
        "\n",
        "Factor 14 has a high factor loading for : yr_built\n",
        "\n",
        "Factor 15 has a high factor loading for : bedrooms\n",
        "\n",
        "Factor 16 has a high factor loading for : rating"
      ]
    },
    {
      "cell_type": "code",
      "metadata": {
        "colab": {
          "base_uri": "https://localhost:8080/",
          "height": 213
        },
        "id": "ZBEZLGVm_61D",
        "outputId": "14ac74f1-76d2-4d7a-acc4-2cbf10a9009c"
      },
      "source": [
        "#Getting variance of each factors\n",
        "# \n",
        "fa.get_factor_variance()"
      ],
      "execution_count": 88,
      "outputs": [
        {
          "output_type": "execute_result",
          "data": {
            "text/html": [
              "<div>\n",
              "<style scoped>\n",
              "    .dataframe tbody tr th:only-of-type {\n",
              "        vertical-align: middle;\n",
              "    }\n",
              "\n",
              "    .dataframe tbody tr th {\n",
              "        vertical-align: top;\n",
              "    }\n",
              "\n",
              "    .dataframe thead th {\n",
              "        text-align: right;\n",
              "    }\n",
              "</style>\n",
              "<table border=\"1\" class=\"dataframe\">\n",
              "  <thead>\n",
              "    <tr style=\"text-align: right;\">\n",
              "      <th></th>\n",
              "      <th>Factor1</th>\n",
              "      <th>Factor2</th>\n",
              "      <th>Factor3</th>\n",
              "      <th>Factor4</th>\n",
              "      <th>Factor5</th>\n",
              "      <th>Factor6</th>\n",
              "      <th>Factor7</th>\n",
              "      <th>Factor8</th>\n",
              "      <th>Factor9</th>\n",
              "      <th>Factor10</th>\n",
              "      <th>Factor11</th>\n",
              "      <th>Factor12</th>\n",
              "      <th>Factor13</th>\n",
              "      <th>Factor14</th>\n",
              "      <th>Factor15</th>\n",
              "      <th>Factor16</th>\n",
              "    </tr>\n",
              "  </thead>\n",
              "  <tbody>\n",
              "    <tr>\n",
              "      <th>SS Loadings</th>\n",
              "      <td>3.719372</td>\n",
              "      <td>1.169653</td>\n",
              "      <td>1.515572</td>\n",
              "      <td>1.818520</td>\n",
              "      <td>0.862171</td>\n",
              "      <td>0.919113</td>\n",
              "      <td>0.576114</td>\n",
              "      <td>0.522961</td>\n",
              "      <td>0.822757</td>\n",
              "      <td>0.056689</td>\n",
              "      <td>0.407235</td>\n",
              "      <td>0.175183</td>\n",
              "      <td>0.008012</td>\n",
              "      <td>0.030896</td>\n",
              "      <td>0.025952</td>\n",
              "      <td>0.142769</td>\n",
              "    </tr>\n",
              "    <tr>\n",
              "      <th>Proportion Var</th>\n",
              "      <td>0.206632</td>\n",
              "      <td>0.064981</td>\n",
              "      <td>0.084198</td>\n",
              "      <td>0.101029</td>\n",
              "      <td>0.047898</td>\n",
              "      <td>0.051062</td>\n",
              "      <td>0.032006</td>\n",
              "      <td>0.029053</td>\n",
              "      <td>0.045709</td>\n",
              "      <td>0.003149</td>\n",
              "      <td>0.022624</td>\n",
              "      <td>0.009732</td>\n",
              "      <td>0.000445</td>\n",
              "      <td>0.001716</td>\n",
              "      <td>0.001442</td>\n",
              "      <td>0.007932</td>\n",
              "    </tr>\n",
              "    <tr>\n",
              "      <th>Cumulative Var</th>\n",
              "      <td>0.206632</td>\n",
              "      <td>0.271613</td>\n",
              "      <td>0.355811</td>\n",
              "      <td>0.456840</td>\n",
              "      <td>0.504738</td>\n",
              "      <td>0.555800</td>\n",
              "      <td>0.587806</td>\n",
              "      <td>0.616860</td>\n",
              "      <td>0.662569</td>\n",
              "      <td>0.665718</td>\n",
              "      <td>0.688342</td>\n",
              "      <td>0.698075</td>\n",
              "      <td>0.698520</td>\n",
              "      <td>0.700236</td>\n",
              "      <td>0.701678</td>\n",
              "      <td>0.709609</td>\n",
              "    </tr>\n",
              "  </tbody>\n",
              "</table>\n",
              "</div>"
            ],
            "text/plain": [
              "                 Factor1   Factor2   Factor3  ...  Factor14  Factor15  Factor16\n",
              "SS Loadings     3.719372  1.169653  1.515572  ...  0.030896  0.025952  0.142769\n",
              "Proportion Var  0.206632  0.064981  0.084198  ...  0.001716  0.001442  0.007932\n",
              "Cumulative Var  0.206632  0.271613  0.355811  ...  0.700236  0.701678  0.709609\n",
              "\n",
              "[3 rows x 16 columns]"
            ]
          },
          "metadata": {
            "tags": []
          },
          "execution_count": 88
        }
      ]
    },
    {
      "cell_type": "markdown",
      "metadata": {
        "id": "cjEzTuzvAE7t"
      },
      "source": [
        "70.96% cumulative Variance is explained by the 16 factors."
      ]
    },
    {
      "cell_type": "markdown",
      "metadata": {
        "id": "gr7CUV23ATcq"
      },
      "source": [
        "## **5. Modelling**"
      ]
    },
    {
      "cell_type": "code",
      "metadata": {
        "id": "Q0kpwu4JCeaQ"
      },
      "source": [
        "# imporing modelling libraries\n",
        "from sklearn.linear_model import LinearRegression\n",
        "\n",
        "from sklearn.linear_model import Lasso\n",
        "\n",
        "from sklearn.model_selection import GridSearchCV\n",
        "\n",
        "from sklearn.model_selection import ShuffleSplit\n",
        "\n",
        "from sklearn.linear_model import Ridge\n",
        "\n",
        "from sklearn.linear_model import ElasticNet"
      ],
      "execution_count": 89,
      "outputs": []
    },
    {
      "cell_type": "code",
      "metadata": {
        "id": "XYqHUiWcCq9T"
      },
      "source": [
        "# defining x and y values\n",
        "x = house_1.drop(columns={'price', 'rating'}).values\n",
        "\n",
        "y = house_1['price'].values"
      ],
      "execution_count": 90,
      "outputs": []
    },
    {
      "cell_type": "markdown",
      "metadata": {
        "id": "3bmxWbrWAZ4p"
      },
      "source": [
        "### **a) Multiple Linear Regression**"
      ]
    },
    {
      "cell_type": "code",
      "metadata": {
        "colab": {
          "base_uri": "https://localhost:8080/"
        },
        "id": "yGzNJxh_Ahts",
        "outputId": "51a322bf-fed5-45fc-bda8-71dca137579e"
      },
      "source": [
        "#splitting the dataset into train and test\n",
        "from sklearn.model_selection import train_test_split\n",
        "\n",
        "# Train using 80% of the data.\n",
        "x_train, x_test, y_train, y_test = train_test_split(x, y, test_size=0.2)\n",
        "\n",
        "# find optimal coefficients and intercept\n",
        "regressor = LinearRegression()  \n",
        "regressor.fit(x_train, y_train)"
      ],
      "execution_count": 91,
      "outputs": [
        {
          "output_type": "execute_result",
          "data": {
            "text/plain": [
              "LinearRegression(copy_X=True, fit_intercept=True, n_jobs=None, normalize=False)"
            ]
          },
          "metadata": {
            "tags": []
          },
          "execution_count": 91
        }
      ]
    },
    {
      "cell_type": "code",
      "metadata": {
        "colab": {
          "base_uri": "https://localhost:8080/"
        },
        "id": "LZ6UxSCuDZYI",
        "outputId": "22d79e5f-9500-4212-9329-c5dffa58b02b"
      },
      "source": [
        "regressor.coef_"
      ],
      "execution_count": 92,
      "outputs": [
        {
          "output_type": "execute_result",
          "data": {
            "text/plain": [
              "array([-3.18830187e+04,  4.10904410e+04,  1.05070448e+02,  1.42146649e-01,\n",
              "        3.89830695e+03,  5.76541258e+05,  4.74021163e+04,  3.41528525e+04,\n",
              "        9.86160465e+04,  6.72270521e+01,  3.78433954e+01, -2.48186270e+03,\n",
              "        2.18587051e+01,  5.60240714e+05, -1.11786959e+05,  2.97887345e+01,\n",
              "       -3.95482037e-01])"
            ]
          },
          "metadata": {
            "tags": []
          },
          "execution_count": 92
        }
      ]
    },
    {
      "cell_type": "code",
      "metadata": {
        "id": "54fQsvvzDn49"
      },
      "source": [
        "#creating an object for the model\n",
        "from sklearn.linear_model import LinearRegression\n",
        "clf = LinearRegression()"
      ],
      "execution_count": 93,
      "outputs": []
    },
    {
      "cell_type": "code",
      "metadata": {
        "colab": {
          "base_uri": "https://localhost:8080/"
        },
        "id": "pySq1aooDpro",
        "outputId": "1da483c4-2143-41d6-f323-a738f7ee4ca0"
      },
      "source": [
        "#fitting the model\n",
        "clf.fit(x_train, y_train)"
      ],
      "execution_count": 94,
      "outputs": [
        {
          "output_type": "execute_result",
          "data": {
            "text/plain": [
              "LinearRegression(copy_X=True, fit_intercept=True, n_jobs=None, normalize=False)"
            ]
          },
          "metadata": {
            "tags": []
          },
          "execution_count": 94
        }
      ]
    },
    {
      "cell_type": "code",
      "metadata": {
        "colab": {
          "base_uri": "https://localhost:8080/"
        },
        "id": "BJAHkCS-Dyw0",
        "outputId": "fac2c18e-88ba-4f51-f5cb-8edcf32c2c79"
      },
      "source": [
        "##accuracy of the model\n",
        "clf.score(x_test, y_test)"
      ],
      "execution_count": 95,
      "outputs": [
        {
          "output_type": "execute_result",
          "data": {
            "text/plain": [
              "0.6862614103249545"
            ]
          },
          "metadata": {
            "tags": []
          },
          "execution_count": 95
        }
      ]
    },
    {
      "cell_type": "markdown",
      "metadata": {
        "id": "reKpUdHRD--k"
      },
      "source": [
        "The multiple linear regression for the model has a predictability power of 69.10%"
      ]
    },
    {
      "cell_type": "markdown",
      "metadata": {
        "id": "S59QzohCFSmk"
      },
      "source": [
        "### **b) Quantile Regression**"
      ]
    },
    {
      "cell_type": "markdown",
      "metadata": {
        "id": "-w_8_tooRCHi"
      },
      "source": [
        "#### **Quantile regression for the indepedent variables**"
      ]
    },
    {
      "cell_type": "code",
      "metadata": {
        "colab": {
          "base_uri": "https://localhost:8080/"
        },
        "id": "Es1BXW4bJwCT",
        "outputId": "0d0b2aca-a4d0-4f3c-cd91-1d0c35a8863a"
      },
      "source": [
        "!pip install mlinsights"
      ],
      "execution_count": 96,
      "outputs": [
        {
          "output_type": "stream",
          "text": [
            "Requirement already satisfied: mlinsights in /usr/local/lib/python3.6/dist-packages (0.2.508)\n",
            "Requirement already satisfied: scipy in /usr/local/lib/python3.6/dist-packages (from mlinsights) (1.4.1)\n",
            "Requirement already satisfied: pandas-streaming in /usr/local/lib/python3.6/dist-packages (from mlinsights) (0.2.175)\n",
            "Requirement already satisfied: numpy>=1.16 in /usr/local/lib/python3.6/dist-packages (from mlinsights) (1.18.5)\n",
            "Requirement already satisfied: pandas in /usr/local/lib/python3.6/dist-packages (from mlinsights) (1.1.4)\n",
            "Requirement already satisfied: matplotlib in /usr/local/lib/python3.6/dist-packages (from mlinsights) (3.2.2)\n",
            "Requirement already satisfied: scikit-learn>=0.22.1 in /usr/local/lib/python3.6/dist-packages (from mlinsights) (0.22.2.post1)\n",
            "Requirement already satisfied: cython in /usr/local/lib/python3.6/dist-packages (from mlinsights) (0.29.21)\n",
            "Requirement already satisfied: ijson in /usr/local/lib/python3.6/dist-packages (from pandas-streaming->mlinsights) (3.1.2.post0)\n",
            "Requirement already satisfied: python-dateutil>=2.7.3 in /usr/local/lib/python3.6/dist-packages (from pandas->mlinsights) (2.8.1)\n",
            "Requirement already satisfied: pytz>=2017.2 in /usr/local/lib/python3.6/dist-packages (from pandas->mlinsights) (2018.9)\n",
            "Requirement already satisfied: kiwisolver>=1.0.1 in /usr/local/lib/python3.6/dist-packages (from matplotlib->mlinsights) (1.3.1)\n",
            "Requirement already satisfied: pyparsing!=2.0.4,!=2.1.2,!=2.1.6,>=2.0.1 in /usr/local/lib/python3.6/dist-packages (from matplotlib->mlinsights) (2.4.7)\n",
            "Requirement already satisfied: cycler>=0.10 in /usr/local/lib/python3.6/dist-packages (from matplotlib->mlinsights) (0.10.0)\n",
            "Requirement already satisfied: joblib>=0.11 in /usr/local/lib/python3.6/dist-packages (from scikit-learn>=0.22.1->mlinsights) (0.17.0)\n",
            "Requirement already satisfied: six>=1.5 in /usr/local/lib/python3.6/dist-packages (from python-dateutil>=2.7.3->pandas->mlinsights) (1.15.0)\n"
          ],
          "name": "stdout"
        }
      ]
    },
    {
      "cell_type": "code",
      "metadata": {
        "id": "66_Fb35MI_4D"
      },
      "source": [
        "from mlinsights.mlmodel import QuantileLinearRegression\n",
        "# creting and object for quantile regression\n",
        "clq = QuantileLinearRegression()\n"
      ],
      "execution_count": 97,
      "outputs": []
    },
    {
      "cell_type": "code",
      "metadata": {
        "colab": {
          "base_uri": "https://localhost:8080/"
        },
        "id": "w3-pqKK3KA2M",
        "outputId": "97c85c48-e676-400d-d8db-7685b88ed0b2"
      },
      "source": [
        "# fitting the model\n",
        "\n",
        "clq.fit(x_train, y_train)"
      ],
      "execution_count": 98,
      "outputs": [
        {
          "output_type": "execute_result",
          "data": {
            "text/plain": [
              "QuantileLinearRegression(copy_X=True, delta=0.0001, fit_intercept=True,\n",
              "                         max_iter=10, n_jobs=1, normalize=False, quantile=0.5,\n",
              "                         verbose=False)"
            ]
          },
          "metadata": {
            "tags": []
          },
          "execution_count": 98
        }
      ]
    },
    {
      "cell_type": "code",
      "metadata": {
        "colab": {
          "base_uri": "https://localhost:8080/"
        },
        "id": "sUehAvoCLHrG",
        "outputId": "8584ee67-b138-431d-c508-5b3c0429ac72"
      },
      "source": [
        "clq = QuantileLinearRegression(verbose=True, max_iter=20)\n",
        "clq.fit(x_train, y_train)\n"
      ],
      "execution_count": 99,
      "outputs": [
        {
          "output_type": "stream",
          "text": [
            "[QuantileLinearRegression.fit] iter=1 error=2173453223.317383\n",
            "[QuantileLinearRegression.fit] iter=2 error=2141582667.058768\n",
            "[QuantileLinearRegression.fit] iter=3 error=2116851787.3055928\n",
            "[QuantileLinearRegression.fit] iter=4 error=2094123210.103513\n",
            "[QuantileLinearRegression.fit] iter=5 error=2080683157.9180207\n",
            "[QuantileLinearRegression.fit] iter=6 error=2066388174.8189054\n",
            "[QuantileLinearRegression.fit] iter=7 error=2057210016.2950165\n",
            "[QuantileLinearRegression.fit] iter=8 error=2051524530.0305572\n",
            "[QuantileLinearRegression.fit] iter=9 error=2045423312.3706286\n",
            "[QuantileLinearRegression.fit] iter=10 error=2041265963.7705328\n",
            "[QuantileLinearRegression.fit] iter=11 error=2038227759.2872481\n",
            "[QuantileLinearRegression.fit] iter=12 error=2035231040.290258\n",
            "[QuantileLinearRegression.fit] iter=13 error=2032669069.8790553\n",
            "[QuantileLinearRegression.fit] iter=14 error=2030797323.6528783\n",
            "[QuantileLinearRegression.fit] iter=15 error=2029438526.708764\n",
            "[QuantileLinearRegression.fit] iter=16 error=2028180433.9380767\n",
            "[QuantileLinearRegression.fit] iter=17 error=2027467109.2453141\n",
            "[QuantileLinearRegression.fit] iter=18 error=2026738911.6933837\n",
            "[QuantileLinearRegression.fit] iter=19 error=2026266804.9296901\n",
            "[QuantileLinearRegression.fit] iter=20 error=2025777503.1889932\n"
          ],
          "name": "stdout"
        },
        {
          "output_type": "execute_result",
          "data": {
            "text/plain": [
              "QuantileLinearRegression(copy_X=True, delta=0.0001, fit_intercept=True,\n",
              "                         max_iter=20, n_jobs=1, normalize=False, quantile=0.5,\n",
              "                         verbose=True)"
            ]
          },
          "metadata": {
            "tags": []
          },
          "execution_count": 99
        }
      ]
    },
    {
      "cell_type": "code",
      "metadata": {
        "colab": {
          "base_uri": "https://localhost:8080/"
        },
        "id": "jFEOU39QLlXS",
        "outputId": "664b06ef-82da-4856-afb9-f8faebda41c9"
      },
      "source": [
        "clq.score(x_test, y_test)"
      ],
      "execution_count": 100,
      "outputs": [
        {
          "output_type": "execute_result",
          "data": {
            "text/plain": [
              "117441.00377674474"
            ]
          },
          "metadata": {
            "tags": []
          },
          "execution_count": 100
        }
      ]
    },
    {
      "cell_type": "markdown",
      "metadata": {
        "id": "G8Zhx1liMxNs"
      },
      "source": [
        "#### **Least Absolute Deviation**\n",
        "\n",
        "\n",
        "The LAD model is a special case of quantile regression where q=0.5\n",
        "\n",
        "I will use the sqft_above variable for the quantile regression since it has the highest factor Loading"
      ]
    },
    {
      "cell_type": "code",
      "metadata": {
        "id": "3G4CMsaUMRSN"
      },
      "source": [
        "import statsmodels.api as sm\n",
        "import statsmodels.formula.api as smf\n",
        "import matplotlib.pyplot as plt"
      ],
      "execution_count": 101,
      "outputs": []
    },
    {
      "cell_type": "code",
      "metadata": {
        "colab": {
          "base_uri": "https://localhost:8080/"
        },
        "id": "eFzhUuQQMS1F",
        "outputId": "e211ccac-2f6d-49ce-e7bd-63b349f66ed6"
      },
      "source": [
        "mod = smf.quantreg('sqft_above ~ price', house_1)\n",
        "res = mod.fit(q=.5)\n",
        "print(res.summary())"
      ],
      "execution_count": 102,
      "outputs": [
        {
          "output_type": "stream",
          "text": [
            "                         QuantReg Regression Results                          \n",
            "==============================================================================\n",
            "Dep. Variable:             sqft_above   Pseudo R-squared:               0.1787\n",
            "Model:                       QuantReg   Bandwidth:                       109.4\n",
            "Method:                 Least Squares   Sparsity:                        1460.\n",
            "Date:                Sat, 21 Nov 2020   No. Observations:                21613\n",
            "Time:                        16:40:30   Df Residuals:                    21611\n",
            "                                        Df Model:                            1\n",
            "==============================================================================\n",
            "                 coef    std err          t      P>|t|      [0.025      0.975]\n",
            "------------------------------------------------------------------------------\n",
            "Intercept    907.6332      8.831    102.781      0.000     890.324     924.942\n",
            "price          0.0014   1.35e-05    101.700      0.000       0.001       0.001\n",
            "==============================================================================\n",
            "\n",
            "The condition number is large, 1.16e+06. This might indicate that there are\n",
            "strong multicollinearity or other numerical problems.\n"
          ],
          "name": "stdout"
        }
      ]
    },
    {
      "cell_type": "markdown",
      "metadata": {
        "id": "XL0zn9sDN6Db"
      },
      "source": [
        "**Visualizing the results**\n",
        "\n",
        "We estimate the quantile regression model for many quantiles between .05 and .95, and compare best fit line from each of these models to Ordinary Least Squares results.\n",
        "\n"
      ]
    },
    {
      "cell_type": "code",
      "metadata": {
        "colab": {
          "base_uri": "https://localhost:8080/"
        },
        "id": "cOQwHW-eNf1v",
        "outputId": "6a95de3a-c922-484e-ddc9-39853d9dbbf3"
      },
      "source": [
        "#Prepare data for plotting¶\n",
        "#For convenience, we place the quantile regression results in a Pandas DataFrame, and the OLS results in a dictionary.\n",
        "quantiles = np.arange(.05, .96, .1)\n",
        "def fit_model(q):\n",
        "    res = mod.fit(q=q)\n",
        "    return [q, res.params['Intercept'], res.params['price']] + \\\n",
        "            res.conf_int().loc['price'].tolist()\n",
        "\n",
        "models = [fit_model(x) for x in quantiles]\n",
        "models = pd.DataFrame(models, columns=['q', 'a', 'b', 'lb', 'ub'])\n",
        "\n",
        "ols = smf.ols('sqft_above ~ price', house_1).fit()\n",
        "ols_ci = ols.conf_int().loc['price'].tolist()\n",
        "ols = dict(a = ols.params['Intercept'],\n",
        "           b = ols.params['price'],\n",
        "           lb = ols_ci[0],\n",
        "           ub = ols_ci[1])\n",
        "\n",
        "print(models)\n",
        "print(ols)"
      ],
      "execution_count": 103,
      "outputs": [
        {
          "output_type": "stream",
          "text": [
            "      q            a         b        lb        ub\n",
            "0  0.05   531.611470  0.000784  0.000762  0.000806\n",
            "1  0.15   668.730159  0.000921  0.000899  0.000943\n",
            "2  0.25   752.550256  0.001031  0.001011  0.001052\n",
            "3  0.35   639.041923  0.001153  0.001129  0.001177\n",
            "4  0.45   876.558229  0.001287  0.001263  0.001312\n",
            "5  0.55   567.082994  0.002034  0.002010  0.002057\n",
            "6  0.65  1010.741581  0.001734  0.001702  0.001766\n",
            "7  0.75  1092.853465  0.002053  0.002020  0.002086\n",
            "8  0.85  1055.967527  0.002520  0.002489  0.002551\n",
            "9  0.95  1321.779447  0.002864  0.002831  0.002897\n",
            "{'a': 1051.0216252831153, 'b': 0.001365037799752587, 'lb': 0.0013411200680534087, 'ub': 0.0013889555314517653}\n"
          ],
          "name": "stdout"
        }
      ]
    },
    {
      "cell_type": "markdown",
      "metadata": {
        "id": "L2uHgPekOY5j"
      },
      "source": [
        "**plot**\n",
        "\n",
        "\n",
        "This plot compares best fit lines for 10 quantile regression models to the least squares fit. we see that:\n",
        "\n",
        "price  increases with sqft_above\n",
        "\n",
        "The dispersion of price increases with sqft_above\n",
        "\n"
      ]
    },
    {
      "cell_type": "code",
      "metadata": {
        "colab": {
          "base_uri": "https://localhost:8080/",
          "height": 406
        },
        "id": "y6lKEgK9PCIh",
        "outputId": "c7a64351-da5e-458b-b514-026e10d9130e"
      },
      "source": [
        "x = np.arange(house_1.sqft_above.min(), house_1.sqft_above.max(), 50)\n",
        "get_y = lambda a, b: a + b * x\n",
        "\n",
        "fig, ax = plt.subplots(figsize=(8, 6))\n",
        "\n",
        "for i in range(models.shape[0]):\n",
        "    y = get_y(models.a[i], models.b[i])\n",
        "    ax.plot(x, y, linestyle='dotted', color='grey')\n",
        "\n",
        "y = get_y(ols['a'], ols['b'])\n",
        "\n",
        "ax.plot(x, y, color='red', label='OLS')\n",
        "ax.scatter(house_1.sqft_above, house_1.price, alpha=.2)\n",
        "ax.set_xlim((240, 3000))\n",
        "ax.set_ylim((240, 2000))\n",
        "legend = ax.legend()\n",
        "ax.set_xlabel('sqft_above', fontsize=16)\n",
        "ax.set_ylabel('price', fontsize=16);"
      ],
      "execution_count": 104,
      "outputs": [
        {
          "output_type": "display_data",
          "data": {
            "image/png": "[encoded data removed]",
            "text/plain": [
              "<Figure size 576x432 with 1 Axes>"
            ]
          },
          "metadata": {
            "tags": []
          }
        }
      ]
    },
    {
      "cell_type": "markdown",
      "metadata": {
        "id": "9nHCP-llP7Pv"
      },
      "source": [
        "The least squares estimates fit low sqft_above observations quite poorly (i.e. the OLS line passes over most low sqft_above houses)"
      ]
    },
    {
      "cell_type": "markdown",
      "metadata": {
        "id": "t6hTbJUiQknG"
      },
      "source": [
        "### **c) Ridge Regression**"
      ]
    },
    {
      "cell_type": "code",
      "metadata": {
        "id": "2WiG5AYIYgfA"
      },
      "source": [
        "# reshaping the dataset\n",
        "x = x.reshape(-1,1)\n"
      ],
      "execution_count": 105,
      "outputs": []
    },
    {
      "cell_type": "code",
      "metadata": {
        "colab": {
          "base_uri": "https://localhost:8080/"
        },
        "id": "QtvdaSJNYMqE",
        "outputId": "c5a0bdaa-920b-42c7-9e38-df19f8a98277"
      },
      "source": [
        "# Creating our baseline regression model\n",
        "# This is a model that has no regularization to it\n",
        "# \n",
        "from sklearn.metrics import mean_squared_error\n",
        "regression = LinearRegression()\n",
        "regression.fit(x,y)\n",
        "first_model = (mean_squared_error(y_true=y,y_pred=regression.predict(x)))\n",
        "print(first_model)"
      ],
      "execution_count": 106,
      "outputs": [
        {
          "output_type": "stream",
          "text": [
            "5.141628124475787e-26\n"
          ],
          "name": "stdout"
        }
      ]
    },
    {
      "cell_type": "markdown",
      "metadata": {
        "id": "CGbSmE2zYrty"
      },
      "source": [
        "The output  value of 5.141628124475787e-26 will be our indicator to determine if the regularized ridge regression model is superior or not."
      ]
    },
    {
      "cell_type": "code",
      "metadata": {
        "id": "6_C5JGCtQvEC"
      },
      "source": [
        "#determining the L1 and L2 regularization\n",
        "ridge = Ridge(normalize=True)\n",
        "search = GridSearchCV(estimator=ridge,param_grid={'alpha':np.logspace(-5,2,8)},scoring='neg_mean_squared_error',n_jobs=1,refit=True,cv=10)"
      ],
      "execution_count": 107,
      "outputs": []
    },
    {
      "cell_type": "code",
      "metadata": {
        "colab": {
          "base_uri": "https://localhost:8080/"
        },
        "id": "Nw-7QgsCVFo-",
        "outputId": "72235ac8-aa64-4e3b-bb5f-6952f1bdf6ec"
      },
      "source": [
        "# using .fit function to run the model and then use the .best_params_ and\n",
        "#  .best_scores_ function to determine the models strength. \n",
        "# \n",
        "search.fit(x,y)\n",
        "search.best_params_\n",
        "{'alpha': 0.01}\n",
        "abs(search.best_score_) "
      ],
      "execution_count": 108,
      "outputs": [
        {
          "output_type": "execute_result",
          "data": {
            "text/plain": [
              "1.5910831178926994e-09"
            ]
          },
          "metadata": {
            "tags": []
          },
          "execution_count": 108
        }
      ]
    },
    {
      "cell_type": "markdown",
      "metadata": {
        "id": "n_Q1LNIbZILB"
      },
      "source": [
        "The best_params_ tells us what to set alpha too which in this case is 0.01. \n",
        "\n",
        "The best_score_ tells us what the best possible mean squared error is. \n",
        "In this case, the value of 1.5910831178926994e-09 is better than what the baseline model was. "
      ]
    },
    {
      "cell_type": "code",
      "metadata": {
        "colab": {
          "base_uri": "https://localhost:8080/"
        },
        "id": "-QV7olFiavR_",
        "outputId": "d6dba37f-f4c6-4a86-c5db-d5b65e88c73d"
      },
      "source": [
        "# We can confirm this by fitting our model with the ridge information and finding the mean squared error below\n",
        "#\n",
        "ridge = Ridge(normalize=True,alpha=0.01)\n",
        "ridge.fit(x,y)\n",
        "second_model = (mean_squared_error(y_true=y,y_pred=ridge.predict(x)))\n",
        "print(second_model)"
      ],
      "execution_count": 109,
      "outputs": [
        {
          "output_type": "stream",
          "text": [
            "0.0012743671900201988\n"
          ],
          "name": "stdout"
        }
      ]
    },
    {
      "cell_type": "markdown",
      "metadata": {
        "id": "nkSIgBx3cU0R"
      },
      "source": [
        "The 41107854412.543236 is greater than the 1.5910831178926994e-09. This is because the last results are not cross-validated. \n",
        "In addition, these results indicate that there is a difference between the ridge and baseline models. \n"
      ]
    },
    {
      "cell_type": "code",
      "metadata": {
        "colab": {
          "base_uri": "https://localhost:8080/"
        },
        "id": "97ypngpQbDKb",
        "outputId": "0fcff6e7-fe14-485f-8771-1b7290680812"
      },
      "source": [
        "ridge.score(x, y)"
      ],
      "execution_count": 110,
      "outputs": [
        {
          "output_type": "execute_result",
          "data": {
            "text/plain": [
              "0.9999019703950593"
            ]
          },
          "metadata": {
            "tags": []
          },
          "execution_count": 110
        }
      ]
    },
    {
      "cell_type": "markdown",
      "metadata": {
        "id": "KELvtXH5eKOs"
      },
      "source": [
        "The predicticatability power of the ridge regression is 0.695381766763215"
      ]
    },
    {
      "cell_type": "markdown",
      "metadata": {
        "id": "ij2xl_SKesWc"
      },
      "source": [
        "### **d) Lasso regression**"
      ]
    },
    {
      "cell_type": "code",
      "metadata": {
        "colab": {
          "base_uri": "https://localhost:8080/"
        },
        "id": "3tRtZt65fA0X",
        "outputId": "0b432d4e-677d-4611-8006-9071dbf6e103"
      },
      "source": [
        "# Creating lasso object\n",
        "# \n",
        "from sklearn import linear_model\n",
        "from sklearn.metrics import mean_squared_error\n",
        "lasso = linear_model.Lasso() \n",
        "\n",
        "parameters = {'alpha': np.concatenate((np.arange(0.1,2,0.1), np.arange(2, 5, 0.5), np.arange(5, 25, 1)))}\n",
        "\n",
        "linear = linear_model.LinearRegression()\n",
        "lasso = linear_model.Lasso() \n",
        "gridlasso = GridSearchCV(lasso, parameters, scoring ='r2') \n",
        "\n",
        "# Fitting models and print the best parameters, R-squared scores, MSE, and coefficients\n",
        "gridlasso.fit(x_train, y_train) \n",
        "linear.fit(x_train, y_train) \n",
        "print(\"lasso best parameters:\", gridlasso.best_params_) \n",
        "print(\"lasso score:\", gridlasso.score(x_test, y_test))\n",
        "print(\"linear score:\", linear.score(x_test, y_test)) \n",
        "print(\"lasso MSE:\", mean_squared_error(y_test, gridlasso.predict(x_test)))\n",
        "print(\"linear MSE:\", mean_squared_error(y_test, linear.predict(x_test))) \n",
        "print(\"lasso best estimator coef:\", gridlasso.best_estimator_.coef_)\n",
        "print(\"linear coef:\", linear.coef_)\n"
      ],
      "execution_count": 111,
      "outputs": [
        {
          "output_type": "stream",
          "text": [
            "lasso best parameters: {'alpha': 24.0}\n",
            "lasso score: 0.686235134748228\n",
            "linear score: 0.6862614103249545\n",
            "lasso MSE: 44857181500.87431\n",
            "linear MSE: 44853425030.83959\n",
            "lasso best estimator coef: [-3.18645710e+04  4.10070046e+04  2.76732749e+02  1.41201684e-01\n",
            "  3.90810929e+03  5.73022013e+05  4.75448852e+04  3.40455816e+04\n",
            "  9.86753607e+04 -1.04423372e+02 -1.33681805e+02 -2.48577770e+03\n",
            "  2.18628940e+01  5.58931633e+05 -1.10208332e+05  2.96893764e+01\n",
            " -3.96439662e-01]\n",
            "linear coef: [-3.18830187e+04  4.10904410e+04  1.05070448e+02  1.42146649e-01\n",
            "  3.89830695e+03  5.76541258e+05  4.74021163e+04  3.41528525e+04\n",
            "  9.86160465e+04  6.72270521e+01  3.78433954e+01 -2.48186270e+03\n",
            "  2.18587051e+01  5.60240714e+05 -1.11786959e+05  2.97887345e+01\n",
            " -3.95482037e-01]\n"
          ],
          "name": "stdout"
        }
      ]
    },
    {
      "cell_type": "code",
      "metadata": {
        "colab": {
          "base_uri": "https://localhost:8080/",
          "height": 472
        },
        "id": "-idAg_zmhWVX",
        "outputId": "915b305e-6b4f-4acf-8800-9c6bdcbf9fb4"
      },
      "source": [
        "# Importing library for visualization\n",
        "#\n",
        "import matplotlib.pyplot as plt\n",
        "coefsLasso = [] \n",
        "\n",
        "# Building Lasso for 200 values of alpha and write the coefficients into array\n",
        "# \n",
        "alphasLasso = np.arange (0, 20, 0.1) \n",
        "for i in range(200):\n",
        "    lasso = linear_model.Lasso(alpha=alphasLasso[i])\n",
        "    lasso.fit(x_train, y_train)\n",
        "    coefsLasso.append(lasso.coef_) \n",
        "\n",
        "# Building Lasso coefficient plots\n",
        "# \n",
        "plt.figure(figsize = (16,7))\n",
        "\n",
        "plt.subplot(121)\n",
        "plt.plot(alphasLasso, coefsLasso)\n",
        "plt.title('Lasso coefficients')\n",
        "plt.xlabel('alpha')\n",
        "plt.ylabel('coefs')\n",
        "\n",
        "plt.show()"
      ],
      "execution_count": 112,
      "outputs": [
        {
          "output_type": "display_data",
          "data": {
            "image/png": "[encoded data removed]",
            "text/plain": [
              "<Figure size 1152x504 with 1 Axes>"
            ]
          },
          "metadata": {
            "tags": []
          }
        }
      ]
    },
    {
      "cell_type": "markdown",
      "metadata": {
        "id": "n2NKpNq8hrL4"
      },
      "source": [
        "As we can see, Lasso influences less on the large coefficients, but the small ones Lasso reduces to zeroes. \n",
        "\n",
        "Therefore Lasso can also be used to determine which features are important \n",
        "\n",
        "to us and keeps the features that may influence the target variable"
      ]
    },
    {
      "cell_type": "markdown",
      "metadata": {
        "id": "tHxNc-Vvif8Z"
      },
      "source": [
        "### **e) ElasicNet Regression**"
      ]
    },
    {
      "cell_type": "code",
      "metadata": {
        "id": "udXKs9oaimke"
      },
      "source": [
        "# Elastic Net Model\n",
        " \n",
        "elastic=ElasticNet(normalize=True)\n",
        "search=GridSearchCV(estimator=elastic,param_grid={'alpha':np.logspace(-5,2,8),\n",
        "                                                  'l1_ratio':[.2,.4,.6,.8]},scoring='neg_mean_squared_error',n_jobs=1,refit=True,cv=10)"
      ],
      "execution_count": 113,
      "outputs": []
    },
    {
      "cell_type": "code",
      "metadata": {
        "colab": {
          "base_uri": "https://localhost:8080/"
        },
        "id": "05rF279KjfC_",
        "outputId": "14bc0b00-8d5e-4c76-8014-405050c6970a"
      },
      "source": [
        "# fitting the model\n",
        "elastic=ElasticNet(normalize=True,alpha=0.001,l1_ratio=0.75)\n",
        "elastic.fit(x_train,y_train)"
      ],
      "execution_count": 114,
      "outputs": [
        {
          "output_type": "execute_result",
          "data": {
            "text/plain": [
              "ElasticNet(alpha=0.001, copy_X=True, fit_intercept=True, l1_ratio=0.75,\n",
              "           max_iter=1000, normalize=True, positive=False, precompute=False,\n",
              "           random_state=None, selection='cyclic', tol=0.0001, warm_start=False)"
            ]
          },
          "metadata": {
            "tags": []
          },
          "execution_count": 114
        }
      ]
    },
    {
      "cell_type": "code",
      "metadata": {
        "colab": {
          "base_uri": "https://localhost:8080/"
        },
        "id": "Wuy9Utgnjofi",
        "outputId": "faab854b-0511-4c76-9942-1410eb52bbe8"
      },
      "source": [
        "# Elastic net score \n",
        "\n",
        "elastic.score(x_test, y_test)"
      ],
      "execution_count": 115,
      "outputs": [
        {
          "output_type": "execute_result",
          "data": {
            "text/plain": [
              "0.4323061552214521"
            ]
          },
          "metadata": {
            "tags": []
          },
          "execution_count": 115
        }
      ]
    },
    {
      "cell_type": "markdown",
      "metadata": {
        "id": "o8EEtqBhj71O"
      },
      "source": [
        "The elastic net regression is performing poorly with a predictability power of 46.17%"
      ]
    },
    {
      "cell_type": "markdown",
      "metadata": {
        "id": "TYC8AA02km9u"
      },
      "source": [
        "## **Multicolinearity**"
      ]
    },
    {
      "cell_type": "code",
      "metadata": {
        "id": "regQqaJkku98"
      },
      "source": [
        "from statsmodels.stats.outliers_influence import variance_inflation_factor"
      ],
      "execution_count": 116,
      "outputs": []
    },
    {
      "cell_type": "code",
      "metadata": {
        "id": "N3mMx0fik4ft"
      },
      "source": [
        "# Import library for VIF\n",
        "from statsmodels.stats.outliers_influence import variance_inflation_factor\n",
        "\n",
        "def calc_vif(X):\n",
        "\n",
        "    # Calculating VIF\n",
        "    vif = pd.DataFrame()\n",
        "    vif[\"variables\"] = X.columns\n",
        "    vif[\"VIF\"] = [variance_inflation_factor(X.values, i) for i in range(X.shape[1])]\n",
        "\n",
        "    return(vif)"
      ],
      "execution_count": 117,
      "outputs": []
    },
    {
      "cell_type": "code",
      "metadata": {
        "colab": {
          "base_uri": "https://localhost:8080/",
          "height": 266
        },
        "id": "VDeEbwg3lbfC",
        "outputId": "3a9991bd-3132-4549-a30a-90f4f25f28ad"
      },
      "source": [
        "X = df.iloc[:,:-1]\n",
        "calc_vif(X)"
      ],
      "execution_count": 118,
      "outputs": [
        {
          "output_type": "execute_result",
          "data": {
            "text/html": [
              "<div>\n",
              "<style scoped>\n",
              "    .dataframe tbody tr th:only-of-type {\n",
              "        vertical-align: middle;\n",
              "    }\n",
              "\n",
              "    .dataframe tbody tr th {\n",
              "        vertical-align: top;\n",
              "    }\n",
              "\n",
              "    .dataframe thead th {\n",
              "        text-align: right;\n",
              "    }\n",
              "</style>\n",
              "<table border=\"1\" class=\"dataframe\">\n",
              "  <thead>\n",
              "    <tr style=\"text-align: right;\">\n",
              "      <th></th>\n",
              "      <th>variables</th>\n",
              "      <th>VIF</th>\n",
              "    </tr>\n",
              "  </thead>\n",
              "  <tbody>\n",
              "    <tr>\n",
              "      <th>0</th>\n",
              "      <td>price</td>\n",
              "      <td>6.890638</td>\n",
              "    </tr>\n",
              "    <tr>\n",
              "      <th>1</th>\n",
              "      <td>bedrooms</td>\n",
              "      <td>13.246478</td>\n",
              "    </tr>\n",
              "    <tr>\n",
              "      <th>2</th>\n",
              "      <td>bathrooms</td>\n",
              "      <td>23.844363</td>\n",
              "    </tr>\n",
              "    <tr>\n",
              "      <th>3</th>\n",
              "      <td>sqft_living</td>\n",
              "      <td>23.724718</td>\n",
              "    </tr>\n",
              "    <tr>\n",
              "      <th>4</th>\n",
              "      <td>sqft_lot</td>\n",
              "      <td>1.178109</td>\n",
              "    </tr>\n",
              "    <tr>\n",
              "      <th>5</th>\n",
              "      <td>floors</td>\n",
              "      <td>9.499974</td>\n",
              "    </tr>\n",
              "    <tr>\n",
              "      <th>6</th>\n",
              "      <td>waterfront</td>\n",
              "      <td>1.102839</td>\n",
              "    </tr>\n",
              "  </tbody>\n",
              "</table>\n",
              "</div>"
            ],
            "text/plain": [
              "     variables        VIF\n",
              "0        price   6.890638\n",
              "1     bedrooms  13.246478\n",
              "2    bathrooms  23.844363\n",
              "3  sqft_living  23.724718\n",
              "4     sqft_lot   1.178109\n",
              "5       floors   9.499974\n",
              "6   waterfront   1.102839"
            ]
          },
          "metadata": {
            "tags": []
          },
          "execution_count": 118
        }
      ]
    },
    {
      "cell_type": "markdown",
      "metadata": {
        "id": "W7-nI33_lm52"
      },
      "source": [
        "We can see here that the bathrooms, sqft_living, bedrooms have a high VIF value, meaning they can be predicted by other independent variables in the dataset."
      ]
    },
    {
      "cell_type": "markdown",
      "metadata": {
        "id": "5DUi7JhJl4M7"
      },
      "source": [
        "### **Fixing Multicolinearity**"
      ]
    },
    {
      "cell_type": "markdown",
      "metadata": {
        "id": "np4uQnnQmiku"
      },
      "source": [
        "Dropping one of the correlated features will help in bringing down the multicollinearity between correlated features"
      ]
    },
    {
      "cell_type": "code",
      "metadata": {
        "colab": {
          "base_uri": "https://localhost:8080/",
          "height": 235
        },
        "id": "mZmfvXX7mCZm",
        "outputId": "7f6bfcdd-db44-452b-a876-13a3ccde904e"
      },
      "source": [
        "# dropping the variables which are highly correlated\n",
        "X = df.drop(['bathrooms', 'sqft_living'],axis=1)\n",
        "calc_vif(X)"
      ],
      "execution_count": 119,
      "outputs": [
        {
          "output_type": "execute_result",
          "data": {
            "text/html": [
              "<div>\n",
              "<style scoped>\n",
              "    .dataframe tbody tr th:only-of-type {\n",
              "        vertical-align: middle;\n",
              "    }\n",
              "\n",
              "    .dataframe tbody tr th {\n",
              "        vertical-align: top;\n",
              "    }\n",
              "\n",
              "    .dataframe thead th {\n",
              "        text-align: right;\n",
              "    }\n",
              "</style>\n",
              "<table border=\"1\" class=\"dataframe\">\n",
              "  <thead>\n",
              "    <tr style=\"text-align: right;\">\n",
              "      <th></th>\n",
              "      <th>variables</th>\n",
              "      <th>VIF</th>\n",
              "    </tr>\n",
              "  </thead>\n",
              "  <tbody>\n",
              "    <tr>\n",
              "      <th>0</th>\n",
              "      <td>price</td>\n",
              "      <td>4.472268</td>\n",
              "    </tr>\n",
              "    <tr>\n",
              "      <th>1</th>\n",
              "      <td>bedrooms</td>\n",
              "      <td>7.924693</td>\n",
              "    </tr>\n",
              "    <tr>\n",
              "      <th>2</th>\n",
              "      <td>sqft_lot</td>\n",
              "      <td>1.140627</td>\n",
              "    </tr>\n",
              "    <tr>\n",
              "      <th>3</th>\n",
              "      <td>floors</td>\n",
              "      <td>7.155530</td>\n",
              "    </tr>\n",
              "    <tr>\n",
              "      <th>4</th>\n",
              "      <td>waterfront</td>\n",
              "      <td>1.230353</td>\n",
              "    </tr>\n",
              "    <tr>\n",
              "      <th>5</th>\n",
              "      <td>view</td>\n",
              "      <td>1.472529</td>\n",
              "    </tr>\n",
              "  </tbody>\n",
              "</table>\n",
              "</div>"
            ],
            "text/plain": [
              "    variables       VIF\n",
              "0       price  4.472268\n",
              "1    bedrooms  7.924693\n",
              "2    sqft_lot  1.140627\n",
              "3      floors  7.155530\n",
              "4  waterfront  1.230353\n",
              "5        view  1.472529"
            ]
          },
          "metadata": {
            "tags": []
          },
          "execution_count": 119
        }
      ]
    },
    {
      "cell_type": "markdown",
      "metadata": {
        "id": "L5h3khVUnueS"
      },
      "source": [
        "## **Heteroskedasticity**"
      ]
    },
    {
      "cell_type": "code",
      "metadata": {
        "colab": {
          "base_uri": "https://localhost:8080/"
        },
        "id": "eaZL6BSEoDax",
        "outputId": "9f3e65df-dc5c-42ce-c1f2-4b1bb7afba24"
      },
      "source": [
        "from sklearn import metrics\n",
        "from sklearn.model_selection import train_test_split\n",
        "from sklearn.linear_model import LinearRegression\n",
        "\n",
        "\n",
        "x_train, x_test, y_train, y_test = train_test_split(x, y, test_size=0.2, random_state=0)\n",
        "\n",
        "regressor = LinearRegression()\n",
        "regressor.fit(x_train, y_train)\n",
        "\n",
        "# This is our prediction for admission based on our model\n",
        "y_predict = regressor.predict(x_test)\n",
        "\n",
        "# We now create the residual by substracting the test value from the predicted \n",
        "# value for each row in our dataset\n",
        "\n",
        "residuals = np.subtract(y_predict, y_test)\n",
        "\n",
        "# Let's describe our residual:\n",
        "pd.DataFrame(residuals).describe()\n",
        "\n",
        "residuals.mean()"
      ],
      "execution_count": 120,
      "outputs": [
        {
          "output_type": "execute_result",
          "data": {
            "text/plain": [
              "0.0"
            ]
          },
          "metadata": {
            "tags": []
          },
          "execution_count": 120
        }
      ]
    },
    {
      "cell_type": "code",
      "metadata": {
        "colab": {
          "base_uri": "https://localhost:8080/",
          "height": 291
        },
        "id": "42qpsvKtos3I",
        "outputId": "0e1089e7-c41d-4272-ffec-3dc3eeb0ab4d"
      },
      "source": [
        "import matplotlib.pyplot as plt\n",
        "\n",
        "plt.scatter(y_predict, residuals, color='black')\n",
        "plt.ylabel('residual')\n",
        "plt.xlabel('fitted values')\n",
        "plt.axhline(y= residuals.mean(), color='red', linewidth=1)\n",
        "plt.show()"
      ],
      "execution_count": 121,
      "outputs": [
        {
          "output_type": "display_data",
          "data": {
            "image/png": "[encoded data removed]",
            "text/plain": [
              "<Figure size 432x288 with 1 Axes>"
            ]
          },
          "metadata": {
            "tags": []
          }
        }
      ]
    },
    {
      "cell_type": "code",
      "metadata": {
        "colab": {
          "base_uri": "https://localhost:8080/"
        },
        "id": "XR9bRdIso2eC",
        "outputId": "d20bafba-cffd-4856-c7ab-6699820accdf"
      },
      "source": [
        "import scipy as sp\n",
        "\n",
        "test_result, p_value = sp.stats.bartlett(y_predict, residuals)\n",
        "\n",
        "# To interpret the results we must also compute a critical value of the chi squared distribution\n",
        "degree_of_freedom = len(y_predict)-1\n",
        "probability = 1 - p_value\n",
        "\n",
        "critical_value = sp.stats.chi2.ppf(probability, degree_of_freedom)\n",
        "print(critical_value)\n",
        "\n",
        "# If the test_result is greater than the critical value, then we reject our null\n",
        "# hypothesis. This would mean that there are patterns to the variance of the data\n",
        "\n",
        "# Otherwise, we can identify no patterns, and we accept the null hypothesis that \n",
        "# the variance is homogeneous across our data\n",
        "\n",
        "if (test_result > critical_value):\n",
        "  print('the variances are unequal, and the model should be reassessed')\n",
        "else:\n",
        "  print('the variances are homogeneous!')"
      ],
      "execution_count": 122,
      "outputs": [
        {
          "output_type": "stream",
          "text": [
            "inf\n",
            "the variances are homogeneous!\n"
          ],
          "name": "stdout"
        }
      ]
    },
    {
      "cell_type": "markdown",
      "metadata": {
        "id": "T4-1JYHNpiqC"
      },
      "source": [
        "## **Challenging the solution**"
      ]
    },
    {
      "cell_type": "markdown",
      "metadata": {
        "id": "IlwfvPmJpnwI"
      },
      "source": [
        "The model performance is affected by the distribution. since there is no test of normalty to obtain a data with a noral distribution"
      ]
    },
    {
      "cell_type": "markdown",
      "metadata": {
        "id": "LZc_UG44qBw5"
      },
      "source": [
        "## **Recommendation**"
      ]
    },
    {
      "cell_type": "markdown",
      "metadata": {
        "id": "iSA8gARtqINq"
      },
      "source": [
        " For prediction purposes I recommend the Hass Consulting Company to use Lasso regression since, Lasso influences less on the large coefficients, but the small ones Lasso reduces to zeroes.\n",
        "\n",
        "Therefore Lasso can also be used to determine which features are important\n",
        "\n",
        "to us and keeps the features that may influence the target variable"
      ]
    }
  ]
}